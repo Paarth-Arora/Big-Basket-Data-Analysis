{
 "cells": [
  {
   "cell_type": "markdown",
   "id": "b7f6e441",
   "metadata": {},
   "source": [
    "# Data Analysis process includes:\n",
    " - Asking questions\n",
    " - Data Wrangling\n",
    "   - Data gathering\n",
    "   - Data Accessing\n",
    "   - Data Cleaning and preprations\n",
    " - EDA\n",
    " - Coclusions\n",
    " - Reporting\n",
    " - Dashboarding through Data Visualisations tools like Power BI and Tableu"
   ]
  },
  {
   "cell_type": "markdown",
   "id": "b8579aa7",
   "metadata": {},
   "source": [
    "## Data Wrangling\n",
    "   - Surveys\n",
    "   - Webscrapping\n",
    "   - CSV\n",
    "   - DBMS\n",
    " - Data Accesing Understanding Data\n",
    " - Data Cleaning and Preprations: Cleaning tha data and preparing it for analysis"
   ]
  },
  {
   "cell_type": "markdown",
   "id": "41aa7226",
   "metadata": {},
   "source": [
    "### Data Assessing\n",
    " - In this step , we try to understand data deeply. Before cleaning the data and preparing it for analysis, we definetly need to know data better."
   ]
  },
  {
   "cell_type": "code",
   "execution_count": 115,
   "id": "4a8d2d92",
   "metadata": {},
   "outputs": [],
   "source": [
    "import pandas as pd\n",
    "import numpy as np\n",
    "import matplotlib.pyplot as plt\n",
    "import seaborn as sns\n",
    "import plotly.express as px"
   ]
  },
  {
   "cell_type": "code",
   "execution_count": 116,
   "id": "a219f9e4",
   "metadata": {},
   "outputs": [],
   "source": [
    "import warnings\n",
    "warnings.filterwarnings('ignore')"
   ]
  },
  {
   "cell_type": "code",
   "execution_count": 117,
   "id": "534d0d49",
   "metadata": {},
   "outputs": [],
   "source": [
    "df=pd.read_csv('BigBasket.csv')"
   ]
  },
  {
   "cell_type": "code",
   "execution_count": 118,
   "id": "dc4c18d2",
   "metadata": {},
   "outputs": [
    {
     "data": {
      "text/html": [
       "<div>\n",
       "<style scoped>\n",
       "    .dataframe tbody tr th:only-of-type {\n",
       "        vertical-align: middle;\n",
       "    }\n",
       "\n",
       "    .dataframe tbody tr th {\n",
       "        vertical-align: top;\n",
       "    }\n",
       "\n",
       "    .dataframe thead th {\n",
       "        text-align: right;\n",
       "    }\n",
       "</style>\n",
       "<table border=\"1\" class=\"dataframe\">\n",
       "  <thead>\n",
       "    <tr style=\"text-align: right;\">\n",
       "      <th></th>\n",
       "      <th>index</th>\n",
       "      <th>product</th>\n",
       "      <th>category</th>\n",
       "      <th>sub_category</th>\n",
       "      <th>brand</th>\n",
       "      <th>sale_price</th>\n",
       "      <th>market_price</th>\n",
       "      <th>type</th>\n",
       "      <th>rating</th>\n",
       "      <th>description</th>\n",
       "    </tr>\n",
       "  </thead>\n",
       "  <tbody>\n",
       "    <tr>\n",
       "      <th>0</th>\n",
       "      <td>1</td>\n",
       "      <td>Garlic Oil - Vegetarian Capsule 500 mg</td>\n",
       "      <td>Beauty &amp; Hygiene</td>\n",
       "      <td>Hair Care</td>\n",
       "      <td>Sri Sri Ayurveda</td>\n",
       "      <td>220.00</td>\n",
       "      <td>220.0</td>\n",
       "      <td>Hair Oil &amp; Serum</td>\n",
       "      <td>4.1</td>\n",
       "      <td>This Product contains Garlic Oil that is known...</td>\n",
       "    </tr>\n",
       "    <tr>\n",
       "      <th>1</th>\n",
       "      <td>2</td>\n",
       "      <td>Water Bottle - Orange</td>\n",
       "      <td>Kitchen, Garden &amp; Pets</td>\n",
       "      <td>Storage &amp; Accessories</td>\n",
       "      <td>Mastercook</td>\n",
       "      <td>180.00</td>\n",
       "      <td>180.0</td>\n",
       "      <td>Water &amp; Fridge Bottles</td>\n",
       "      <td>2.3</td>\n",
       "      <td>Each product is microwave safe (without lid), ...</td>\n",
       "    </tr>\n",
       "    <tr>\n",
       "      <th>2</th>\n",
       "      <td>3</td>\n",
       "      <td>Brass Angle Deep - Plain, No.2</td>\n",
       "      <td>Cleaning &amp; Household</td>\n",
       "      <td>Pooja Needs</td>\n",
       "      <td>Trm</td>\n",
       "      <td>119.00</td>\n",
       "      <td>250.0</td>\n",
       "      <td>Lamp &amp; Lamp Oil</td>\n",
       "      <td>3.4</td>\n",
       "      <td>A perfect gift for all occasions, be it your m...</td>\n",
       "    </tr>\n",
       "    <tr>\n",
       "      <th>3</th>\n",
       "      <td>4</td>\n",
       "      <td>Cereal Flip Lid Container/Storage Jar - Assort...</td>\n",
       "      <td>Cleaning &amp; Household</td>\n",
       "      <td>Bins &amp; Bathroom Ware</td>\n",
       "      <td>Nakoda</td>\n",
       "      <td>149.00</td>\n",
       "      <td>176.0</td>\n",
       "      <td>Laundry, Storage Baskets</td>\n",
       "      <td>3.7</td>\n",
       "      <td>Multipurpose container with an attractive desi...</td>\n",
       "    </tr>\n",
       "    <tr>\n",
       "      <th>4</th>\n",
       "      <td>5</td>\n",
       "      <td>Creme Soft Soap - For Hands &amp; Body</td>\n",
       "      <td>Beauty &amp; Hygiene</td>\n",
       "      <td>Bath &amp; Hand Wash</td>\n",
       "      <td>Nivea</td>\n",
       "      <td>162.00</td>\n",
       "      <td>162.0</td>\n",
       "      <td>Bathing Bars &amp; Soaps</td>\n",
       "      <td>4.4</td>\n",
       "      <td>Nivea Creme Soft Soap gives your skin the best...</td>\n",
       "    </tr>\n",
       "    <tr>\n",
       "      <th>...</th>\n",
       "      <td>...</td>\n",
       "      <td>...</td>\n",
       "      <td>...</td>\n",
       "      <td>...</td>\n",
       "      <td>...</td>\n",
       "      <td>...</td>\n",
       "      <td>...</td>\n",
       "      <td>...</td>\n",
       "      <td>...</td>\n",
       "      <td>...</td>\n",
       "    </tr>\n",
       "    <tr>\n",
       "      <th>27550</th>\n",
       "      <td>27551</td>\n",
       "      <td>Wottagirl! Perfume Spray - Heaven, Classic</td>\n",
       "      <td>Beauty &amp; Hygiene</td>\n",
       "      <td>Fragrances &amp; Deos</td>\n",
       "      <td>Layerr</td>\n",
       "      <td>199.20</td>\n",
       "      <td>249.0</td>\n",
       "      <td>Perfume</td>\n",
       "      <td>3.9</td>\n",
       "      <td>Layerr brings you Wottagirl Classic fragrant b...</td>\n",
       "    </tr>\n",
       "    <tr>\n",
       "      <th>27551</th>\n",
       "      <td>27552</td>\n",
       "      <td>Rosemary</td>\n",
       "      <td>Gourmet &amp; World Food</td>\n",
       "      <td>Cooking &amp; Baking Needs</td>\n",
       "      <td>Puramate</td>\n",
       "      <td>67.50</td>\n",
       "      <td>75.0</td>\n",
       "      <td>Herbs, Seasonings &amp; Rubs</td>\n",
       "      <td>4.0</td>\n",
       "      <td>Puramate rosemary is enough to transform a dis...</td>\n",
       "    </tr>\n",
       "    <tr>\n",
       "      <th>27552</th>\n",
       "      <td>27553</td>\n",
       "      <td>Peri-Peri Sweet Potato Chips</td>\n",
       "      <td>Gourmet &amp; World Food</td>\n",
       "      <td>Snacks, Dry Fruits, Nuts</td>\n",
       "      <td>FabBox</td>\n",
       "      <td>200.00</td>\n",
       "      <td>200.0</td>\n",
       "      <td>Nachos &amp; Chips</td>\n",
       "      <td>3.8</td>\n",
       "      <td>We have taken the richness of Sweet Potatoes (...</td>\n",
       "    </tr>\n",
       "    <tr>\n",
       "      <th>27553</th>\n",
       "      <td>27554</td>\n",
       "      <td>Green Tea - Pure Original</td>\n",
       "      <td>Beverages</td>\n",
       "      <td>Tea</td>\n",
       "      <td>Tetley</td>\n",
       "      <td>396.00</td>\n",
       "      <td>495.0</td>\n",
       "      <td>Tea Bags</td>\n",
       "      <td>4.2</td>\n",
       "      <td>Tetley Green Tea with its refreshing pure, ori...</td>\n",
       "    </tr>\n",
       "    <tr>\n",
       "      <th>27554</th>\n",
       "      <td>27555</td>\n",
       "      <td>United Dreams Go Far Deodorant</td>\n",
       "      <td>Beauty &amp; Hygiene</td>\n",
       "      <td>Men's Grooming</td>\n",
       "      <td>United Colors Of Benetton</td>\n",
       "      <td>214.53</td>\n",
       "      <td>390.0</td>\n",
       "      <td>Men's Deodorants</td>\n",
       "      <td>4.5</td>\n",
       "      <td>The new mens fragrance from the United Dreams ...</td>\n",
       "    </tr>\n",
       "  </tbody>\n",
       "</table>\n",
       "<p>27555 rows × 10 columns</p>\n",
       "</div>"
      ],
      "text/plain": [
       "       index                                            product  \\\n",
       "0          1             Garlic Oil - Vegetarian Capsule 500 mg   \n",
       "1          2                              Water Bottle - Orange   \n",
       "2          3                     Brass Angle Deep - Plain, No.2   \n",
       "3          4  Cereal Flip Lid Container/Storage Jar - Assort...   \n",
       "4          5                 Creme Soft Soap - For Hands & Body   \n",
       "...      ...                                                ...   \n",
       "27550  27551         Wottagirl! Perfume Spray - Heaven, Classic   \n",
       "27551  27552                                           Rosemary   \n",
       "27552  27553                       Peri-Peri Sweet Potato Chips   \n",
       "27553  27554                          Green Tea - Pure Original   \n",
       "27554  27555                     United Dreams Go Far Deodorant   \n",
       "\n",
       "                     category              sub_category  \\\n",
       "0            Beauty & Hygiene                 Hair Care   \n",
       "1      Kitchen, Garden & Pets     Storage & Accessories   \n",
       "2        Cleaning & Household               Pooja Needs   \n",
       "3        Cleaning & Household      Bins & Bathroom Ware   \n",
       "4            Beauty & Hygiene          Bath & Hand Wash   \n",
       "...                       ...                       ...   \n",
       "27550        Beauty & Hygiene         Fragrances & Deos   \n",
       "27551    Gourmet & World Food    Cooking & Baking Needs   \n",
       "27552    Gourmet & World Food  Snacks, Dry Fruits, Nuts   \n",
       "27553               Beverages                       Tea   \n",
       "27554        Beauty & Hygiene            Men's Grooming   \n",
       "\n",
       "                            brand  sale_price  market_price  \\\n",
       "0               Sri Sri Ayurveda       220.00         220.0   \n",
       "1                      Mastercook      180.00         180.0   \n",
       "2                             Trm      119.00         250.0   \n",
       "3                          Nakoda      149.00         176.0   \n",
       "4                           Nivea      162.00         162.0   \n",
       "...                           ...         ...           ...   \n",
       "27550                      Layerr      199.20         249.0   \n",
       "27551                    Puramate       67.50          75.0   \n",
       "27552                      FabBox      200.00         200.0   \n",
       "27553                      Tetley      396.00         495.0   \n",
       "27554  United Colors Of Benetton       214.53         390.0   \n",
       "\n",
       "                           type  rating  \\\n",
       "0              Hair Oil & Serum     4.1   \n",
       "1        Water & Fridge Bottles     2.3   \n",
       "2               Lamp & Lamp Oil     3.4   \n",
       "3      Laundry, Storage Baskets     3.7   \n",
       "4          Bathing Bars & Soaps     4.4   \n",
       "...                         ...     ...   \n",
       "27550                   Perfume     3.9   \n",
       "27551  Herbs, Seasonings & Rubs     4.0   \n",
       "27552            Nachos & Chips     3.8   \n",
       "27553                  Tea Bags     4.2   \n",
       "27554          Men's Deodorants     4.5   \n",
       "\n",
       "                                             description  \n",
       "0      This Product contains Garlic Oil that is known...  \n",
       "1      Each product is microwave safe (without lid), ...  \n",
       "2      A perfect gift for all occasions, be it your m...  \n",
       "3      Multipurpose container with an attractive desi...  \n",
       "4      Nivea Creme Soft Soap gives your skin the best...  \n",
       "...                                                  ...  \n",
       "27550  Layerr brings you Wottagirl Classic fragrant b...  \n",
       "27551  Puramate rosemary is enough to transform a dis...  \n",
       "27552  We have taken the richness of Sweet Potatoes (...  \n",
       "27553  Tetley Green Tea with its refreshing pure, ori...  \n",
       "27554  The new mens fragrance from the United Dreams ...  \n",
       "\n",
       "[27555 rows x 10 columns]"
      ]
     },
     "execution_count": 118,
     "metadata": {},
     "output_type": "execute_result"
    }
   ],
   "source": [
    "df"
   ]
  },
  {
   "cell_type": "markdown",
   "id": "cd6260e7",
   "metadata": {},
   "source": [
    "#### Assessing Data"
   ]
  },
  {
   "cell_type": "markdown",
   "id": "ad622ab9",
   "metadata": {},
   "source": [
    "#### What is big basket?\n",
    " - BigBasket is an Indian online grocer headquartered in Bangalore, India, and currently owned by Tata Digital.[1] It was the first online grocer in India, set up in 2011. It is a registered company with the name Supermarket Grocery Supplies Pvt. Ltd.[10]\n",
    "\n",
    " - As of January 2023, the company operates in more than 30 cities in India and processes around 15 million orders per month.[1]\n",
    "\n",
    " - According to Bloomberg News, BigBasket is considering an initial public offering by 2025 as part of its growth plans"
   ]
  },
  {
   "cell_type": "markdown",
   "id": "057a8939",
   "metadata": {},
   "source": [
    "### About our dataset?"
   ]
  },
  {
   "cell_type": "markdown",
   "id": "b2fe6788",
   "metadata": {},
   "source": [
    "### columns brief\n",
    " - index:          unique identifier\n",
    " - product:        name of the product listed\n",
    " - category:       category of the product\n",
    " - sub_category:   category is further broken down into subcategories\n",
    " - brand:          name of the company of the product\n",
    " - sale_price:     on how much the item is sold\n",
    " - market_price:   it holda the value of the maximum retail price\n",
    " - type:           type of product\n",
    " - rating:         aggregate rating given to the product\n",
    " - description:    description of our product"
   ]
  },
  {
   "cell_type": "code",
   "execution_count": 119,
   "id": "589b731a",
   "metadata": {},
   "outputs": [
    {
     "name": "stdout",
     "output_type": "stream",
     "text": [
      "<class 'pandas.core.frame.DataFrame'>\n",
      "RangeIndex: 27555 entries, 0 to 27554\n",
      "Data columns (total 10 columns):\n",
      " #   Column        Non-Null Count  Dtype  \n",
      "---  ------        --------------  -----  \n",
      " 0   index         27555 non-null  int64  \n",
      " 1   product       27554 non-null  object \n",
      " 2   category      27555 non-null  object \n",
      " 3   sub_category  27555 non-null  object \n",
      " 4   brand         27554 non-null  object \n",
      " 5   sale_price    27549 non-null  float64\n",
      " 6   market_price  27555 non-null  float64\n",
      " 7   type          27555 non-null  object \n",
      " 8   rating        18919 non-null  float64\n",
      " 9   description   27440 non-null  object \n",
      "dtypes: float64(3), int64(1), object(6)\n",
      "memory usage: 2.1+ MB\n"
     ]
    }
   ],
   "source": [
    "#seeking information from the data\n",
    "df.info()"
   ]
  },
  {
   "cell_type": "markdown",
   "id": "59ef70a3",
   "metadata": {},
   "source": [
    " - It contains around 27555 rows\n",
    " - It contains 10 columns in total\n",
    " - It contains null values\n",
    " - It contains 4 umerical columns and 6 object type(categorical or textual) columns\n",
    " - It containf 3 float type columns , 1 int type column and 6 textual columns"
   ]
  },
  {
   "cell_type": "code",
   "execution_count": 120,
   "id": "1777d118",
   "metadata": {},
   "outputs": [
    {
     "data": {
      "text/html": [
       "<div>\n",
       "<style scoped>\n",
       "    .dataframe tbody tr th:only-of-type {\n",
       "        vertical-align: middle;\n",
       "    }\n",
       "\n",
       "    .dataframe tbody tr th {\n",
       "        vertical-align: top;\n",
       "    }\n",
       "\n",
       "    .dataframe thead th {\n",
       "        text-align: right;\n",
       "    }\n",
       "</style>\n",
       "<table border=\"1\" class=\"dataframe\">\n",
       "  <thead>\n",
       "    <tr style=\"text-align: right;\">\n",
       "      <th></th>\n",
       "      <th>index</th>\n",
       "      <th>sale_price</th>\n",
       "      <th>market_price</th>\n",
       "      <th>rating</th>\n",
       "    </tr>\n",
       "  </thead>\n",
       "  <tbody>\n",
       "    <tr>\n",
       "      <th>count</th>\n",
       "      <td>27555.00000</td>\n",
       "      <td>27549.000000</td>\n",
       "      <td>27555.000000</td>\n",
       "      <td>18919.000000</td>\n",
       "    </tr>\n",
       "    <tr>\n",
       "      <th>mean</th>\n",
       "      <td>13778.00000</td>\n",
       "      <td>334.648391</td>\n",
       "      <td>382.056664</td>\n",
       "      <td>3.943295</td>\n",
       "    </tr>\n",
       "    <tr>\n",
       "      <th>std</th>\n",
       "      <td>7954.58767</td>\n",
       "      <td>1202.102113</td>\n",
       "      <td>581.730717</td>\n",
       "      <td>0.739217</td>\n",
       "    </tr>\n",
       "    <tr>\n",
       "      <th>min</th>\n",
       "      <td>1.00000</td>\n",
       "      <td>2.450000</td>\n",
       "      <td>3.000000</td>\n",
       "      <td>1.000000</td>\n",
       "    </tr>\n",
       "    <tr>\n",
       "      <th>25%</th>\n",
       "      <td>6889.50000</td>\n",
       "      <td>95.000000</td>\n",
       "      <td>100.000000</td>\n",
       "      <td>3.700000</td>\n",
       "    </tr>\n",
       "    <tr>\n",
       "      <th>50%</th>\n",
       "      <td>13778.00000</td>\n",
       "      <td>190.320000</td>\n",
       "      <td>220.000000</td>\n",
       "      <td>4.100000</td>\n",
       "    </tr>\n",
       "    <tr>\n",
       "      <th>75%</th>\n",
       "      <td>20666.50000</td>\n",
       "      <td>359.000000</td>\n",
       "      <td>425.000000</td>\n",
       "      <td>4.300000</td>\n",
       "    </tr>\n",
       "    <tr>\n",
       "      <th>max</th>\n",
       "      <td>27555.00000</td>\n",
       "      <td>112475.000000</td>\n",
       "      <td>12500.000000</td>\n",
       "      <td>5.000000</td>\n",
       "    </tr>\n",
       "  </tbody>\n",
       "</table>\n",
       "</div>"
      ],
      "text/plain": [
       "             index     sale_price  market_price        rating\n",
       "count  27555.00000   27549.000000  27555.000000  18919.000000\n",
       "mean   13778.00000     334.648391    382.056664      3.943295\n",
       "std     7954.58767    1202.102113    581.730717      0.739217\n",
       "min        1.00000       2.450000      3.000000      1.000000\n",
       "25%     6889.50000      95.000000    100.000000      3.700000\n",
       "50%    13778.00000     190.320000    220.000000      4.100000\n",
       "75%    20666.50000     359.000000    425.000000      4.300000\n",
       "max    27555.00000  112475.000000  12500.000000      5.000000"
      ]
     },
     "execution_count": 120,
     "metadata": {},
     "output_type": "execute_result"
    }
   ],
   "source": [
    "# seeking description of the dataset\n",
    "\n",
    "df.describe()"
   ]
  },
  {
   "cell_type": "markdown",
   "id": "ead21d1e",
   "metadata": {},
   "source": [
    " - It shows us all the numerical columns and their statistical summary\n",
    " - By seeing count column, we can conclude that their are null values in sale_price and rating\n",
    " - By seeing the mean of sale_price and market_price we can see a very commom relation , that sp can never be more than mp\n",
    " - Information that their is huge difference between market_price and sale_price , sp std is about 2 times mrp std\n",
    "    - which could mean more discounts are given or their could be outliers\n",
    " - Min values are considerate accept 1 in market_price we will come back to that later\n",
    " - Max values are considerable"
   ]
  },
  {
   "cell_type": "markdown",
   "id": "6c237841",
   "metadata": {},
   "source": [
    "### Data Cleaning or Preparations"
   ]
  },
  {
   "cell_type": "markdown",
   "id": "01385697",
   "metadata": {},
   "source": [
    "- Types of Unclean Data\n",
    "    - Dirty Data: data with quality issues. also known as low quality data. low quality data has content issues\n",
    "         - Duplicated values\n",
    "         - Missing Values\n",
    "         - Corrupt data\n",
    "         - Inaccurate ddata\n",
    "    - Messy Data: structural issues. also known as untidy data. \n",
    "        \n",
    " - Tidy Data:\n",
    "     - Each variable forma a column\n",
    "     - Each observation forms a row\n",
    "     - Each observation forms a table"
   ]
  },
  {
   "cell_type": "markdown",
   "id": "537961ec",
   "metadata": {},
   "source": [
    "#### to check which type of data "
   ]
  },
  {
   "cell_type": "code",
   "execution_count": 121,
   "id": "e845625e",
   "metadata": {},
   "outputs": [
    {
     "data": {
      "text/plain": [
       "index              0\n",
       "product            1\n",
       "category           0\n",
       "sub_category       0\n",
       "brand              1\n",
       "sale_price         6\n",
       "market_price       0\n",
       "type               0\n",
       "rating          8636\n",
       "description      115\n",
       "dtype: int64"
      ]
     },
     "execution_count": 121,
     "metadata": {},
     "output_type": "execute_result"
    }
   ],
   "source": [
    "df.isnull().sum()"
   ]
  },
  {
   "cell_type": "markdown",
   "id": "3f8ee2b5",
   "metadata": {},
   "source": [
    "#### type of issues in dirty data\n",
    " - Completeness :Completeness means making sure we have all the info we need in our data. We check for any missing pieces \n",
    "        and either fill them by using estimates or get that missing info if possible. It is important beacause missing \n",
    "        data can mess up our analysis and give us wrong estimations.   \n",
    " - Validity :Validity is about making sure our data is correct and makes sense. We check that it is up to date, accurate \n",
    "    and fits with what we are trying to learn. Thus involves looking at things like data types , formats and ranges to see \n",
    "    if they match what we are expecting\n",
    " - Accuracy :Accuracy means that the data values we have are exact and right. We look for and fix any mistakes, wierd \n",
    "    numbers or outliers in the data.\n",
    " - Consistency :Consistency is about making sure our data is the same and make senses across different parts. We want\n",
    "    everything to match up and be in harmony."
   ]
  },
  {
   "cell_type": "markdown",
   "id": "a7134d46",
   "metadata": {},
   "source": [
    "#### Order of severnity\n",
    " - Quality Issues: null values\n",
    " - Tideness\n",
    " - Quality issues: validity\n",
    " - Quality Issues: accuracy\n",
    " - Quality Issues: consistency"
   ]
  },
  {
   "cell_type": "markdown",
   "id": "072279de",
   "metadata": {},
   "source": [
    "#### Steps in data cleaning\n",
    " - Define: This is when we figure out what's wrong in our data. We look for the things like missing pieces, or mistakes in the \n",
    "        information.\n",
    " - Code: Here, we write instructions to fix the problems we found earlier. We tell the computer what to do to clean up the data.\n",
    " - Test: After we have cleaned the data , we check if everything worked correctly. We make sure the data is now good to use and \n",
    "    doesn'thave the issues we found before."
   ]
  },
  {
   "cell_type": "markdown",
   "id": "63b02ff0",
   "metadata": {},
   "source": [
    "#### Manual Assessing"
   ]
  },
  {
   "cell_type": "code",
   "execution_count": 122,
   "id": "d14dc412",
   "metadata": {},
   "outputs": [
    {
     "data": {
      "text/plain": [
       "index              0\n",
       "product            1\n",
       "category           0\n",
       "sub_category       0\n",
       "brand              1\n",
       "sale_price         6\n",
       "market_price       0\n",
       "type               0\n",
       "rating          8636\n",
       "description      115\n",
       "dtype: int64"
      ]
     },
     "execution_count": 122,
     "metadata": {},
     "output_type": "execute_result"
    }
   ],
   "source": [
    "# dealing with null values.\n",
    "df.isnull().sum()"
   ]
  },
  {
   "cell_type": "markdown",
   "id": "08b89e02",
   "metadata": {},
   "source": [
    " - Product has 1 null value\n",
    " - Brand has 1 null value\n",
    " - Sale_price has 6 null values\n",
    " - Rating has 8636 null values\n",
    " - Description has 115 null values"
   ]
  },
  {
   "cell_type": "code",
   "execution_count": 123,
   "id": "9e4c0d72",
   "metadata": {},
   "outputs": [
    {
     "data": {
      "text/plain": [
       "8759"
      ]
     },
     "execution_count": 123,
     "metadata": {},
     "output_type": "execute_result"
    }
   ],
   "source": [
    "#Total null values\n",
    "df.isnull().sum().sum()"
   ]
  },
  {
   "cell_type": "code",
   "execution_count": 124,
   "id": "66f596fb",
   "metadata": {},
   "outputs": [
    {
     "data": {
      "text/plain": [
       "0        220.00\n",
       "1        180.00\n",
       "2        119.00\n",
       "3        149.00\n",
       "4        162.00\n",
       "          ...  \n",
       "27550    199.20\n",
       "27551     67.50\n",
       "27552    200.00\n",
       "27553    396.00\n",
       "27554    214.53\n",
       "Name: sale_price, Length: 27555, dtype: float64"
      ]
     },
     "execution_count": 124,
     "metadata": {},
     "output_type": "execute_result"
    }
   ],
   "source": [
    "df.sale_price"
   ]
  },
  {
   "cell_type": "code",
   "execution_count": 125,
   "id": "14a15121",
   "metadata": {},
   "outputs": [
    {
     "data": {
      "text/html": [
       "<div>\n",
       "<style scoped>\n",
       "    .dataframe tbody tr th:only-of-type {\n",
       "        vertical-align: middle;\n",
       "    }\n",
       "\n",
       "    .dataframe tbody tr th {\n",
       "        vertical-align: top;\n",
       "    }\n",
       "\n",
       "    .dataframe thead th {\n",
       "        text-align: right;\n",
       "    }\n",
       "</style>\n",
       "<table border=\"1\" class=\"dataframe\">\n",
       "  <thead>\n",
       "    <tr style=\"text-align: right;\">\n",
       "      <th></th>\n",
       "      <th>index</th>\n",
       "      <th>product</th>\n",
       "      <th>category</th>\n",
       "      <th>sub_category</th>\n",
       "      <th>brand</th>\n",
       "      <th>sale_price</th>\n",
       "      <th>market_price</th>\n",
       "      <th>type</th>\n",
       "      <th>rating</th>\n",
       "      <th>description</th>\n",
       "    </tr>\n",
       "  </thead>\n",
       "  <tbody>\n",
       "    <tr>\n",
       "      <th>1719</th>\n",
       "      <td>1720</td>\n",
       "      <td>Puja Flower Wicks - Puvvu Vathulu Batti</td>\n",
       "      <td>Cleaning &amp; Household</td>\n",
       "      <td>Pooja Needs</td>\n",
       "      <td>Jaji</td>\n",
       "      <td>NaN</td>\n",
       "      <td>20.0</td>\n",
       "      <td>Camphor &amp; Wicks</td>\n",
       "      <td>NaN</td>\n",
       "      <td>Jaji Puja Flower Batti / Puvvu Vathulu is made...</td>\n",
       "    </tr>\n",
       "    <tr>\n",
       "      <th>1720</th>\n",
       "      <td>1721</td>\n",
       "      <td>Powder - Sambar</td>\n",
       "      <td>Foodgrains, Oil &amp; Masala</td>\n",
       "      <td>Masalas &amp; Spices</td>\n",
       "      <td>Annapoorna</td>\n",
       "      <td>NaN</td>\n",
       "      <td>46.0</td>\n",
       "      <td>Blended Masalas</td>\n",
       "      <td>NaN</td>\n",
       "      <td>Annaporna Spices are the preserve for Connoiss...</td>\n",
       "    </tr>\n",
       "    <tr>\n",
       "      <th>1721</th>\n",
       "      <td>1722</td>\n",
       "      <td>Steel Fork - Medium, Premium Excel Series, BBCL08</td>\n",
       "      <td>Kitchen, Garden &amp; Pets</td>\n",
       "      <td>Crockery &amp; Cutlery</td>\n",
       "      <td>BB Home</td>\n",
       "      <td>NaN</td>\n",
       "      <td>299.0</td>\n",
       "      <td>Cutlery, Spoon &amp; Fork</td>\n",
       "      <td>NaN</td>\n",
       "      <td>BB Home provides fine and classy cutlery that ...</td>\n",
       "    </tr>\n",
       "    <tr>\n",
       "      <th>1722</th>\n",
       "      <td>1723</td>\n",
       "      <td>Snack Mix - Dhokla</td>\n",
       "      <td>Snacks &amp; Branded Foods</td>\n",
       "      <td>Ready To Cook &amp; Eat</td>\n",
       "      <td>MTR</td>\n",
       "      <td>NaN</td>\n",
       "      <td>65.0</td>\n",
       "      <td>Breakfast &amp; Snack Mixes</td>\n",
       "      <td>4.1</td>\n",
       "      <td>MTR Dhokla is extremely special in Gujarat. It...</td>\n",
       "    </tr>\n",
       "    <tr>\n",
       "      <th>2401</th>\n",
       "      <td>2402</td>\n",
       "      <td>Battery AA 3UT Hi Top</td>\n",
       "      <td>Kitchen, Garden &amp; Pets</td>\n",
       "      <td>Appliances &amp; Electricals</td>\n",
       "      <td>Nippo</td>\n",
       "      <td>NaN</td>\n",
       "      <td>150.0</td>\n",
       "      <td>Battery &amp; Electrical</td>\n",
       "      <td>4.0</td>\n",
       "      <td>This Nippo battery incorporates state-of-the-a...</td>\n",
       "    </tr>\n",
       "    <tr>\n",
       "      <th>2402</th>\n",
       "      <td>2403</td>\n",
       "      <td>Klassic Plain Cocktail Napkins (22 X 22 cm)</td>\n",
       "      <td>Cleaning &amp; Household</td>\n",
       "      <td>Disposables, Garbage Bag</td>\n",
       "      <td>Origami</td>\n",
       "      <td>NaN</td>\n",
       "      <td>32.0</td>\n",
       "      <td>Toilet Paper</td>\n",
       "      <td>3.9</td>\n",
       "      <td>Klassic Plain Cocktail Napkins (22 X 22 cm) 10...</td>\n",
       "    </tr>\n",
       "  </tbody>\n",
       "</table>\n",
       "</div>"
      ],
      "text/plain": [
       "      index                                            product  \\\n",
       "1719   1720            Puja Flower Wicks - Puvvu Vathulu Batti   \n",
       "1720   1721                                    Powder - Sambar   \n",
       "1721   1722  Steel Fork - Medium, Premium Excel Series, BBCL08   \n",
       "1722   1723                                 Snack Mix - Dhokla   \n",
       "2401   2402                              Battery AA 3UT Hi Top   \n",
       "2402   2403        Klassic Plain Cocktail Napkins (22 X 22 cm)   \n",
       "\n",
       "                      category              sub_category       brand  \\\n",
       "1719      Cleaning & Household               Pooja Needs        Jaji   \n",
       "1720  Foodgrains, Oil & Masala          Masalas & Spices  Annapoorna   \n",
       "1721    Kitchen, Garden & Pets        Crockery & Cutlery     BB Home   \n",
       "1722    Snacks & Branded Foods       Ready To Cook & Eat         MTR   \n",
       "2401    Kitchen, Garden & Pets  Appliances & Electricals       Nippo   \n",
       "2402      Cleaning & Household  Disposables, Garbage Bag     Origami   \n",
       "\n",
       "      sale_price  market_price                     type  rating  \\\n",
       "1719         NaN          20.0          Camphor & Wicks     NaN   \n",
       "1720         NaN          46.0          Blended Masalas     NaN   \n",
       "1721         NaN         299.0    Cutlery, Spoon & Fork     NaN   \n",
       "1722         NaN          65.0  Breakfast & Snack Mixes     4.1   \n",
       "2401         NaN         150.0     Battery & Electrical     4.0   \n",
       "2402         NaN          32.0             Toilet Paper     3.9   \n",
       "\n",
       "                                            description  \n",
       "1719  Jaji Puja Flower Batti / Puvvu Vathulu is made...  \n",
       "1720  Annaporna Spices are the preserve for Connoiss...  \n",
       "1721  BB Home provides fine and classy cutlery that ...  \n",
       "1722  MTR Dhokla is extremely special in Gujarat. It...  \n",
       "2401  This Nippo battery incorporates state-of-the-a...  \n",
       "2402  Klassic Plain Cocktail Napkins (22 X 22 cm) 10...  "
      ]
     },
     "execution_count": 125,
     "metadata": {},
     "output_type": "execute_result"
    }
   ],
   "source": [
    "df[df.sale_price.isnull()]"
   ]
  },
  {
   "cell_type": "code",
   "execution_count": 126,
   "id": "71300677-dc06-474e-97f1-f8db3c4b8d08",
   "metadata": {
    "tags": []
   },
   "outputs": [],
   "source": [
    "df.sale_price.fillna(df.market_price,inplace=True)"
   ]
  },
  {
   "cell_type": "code",
   "execution_count": 127,
   "id": "a89b6113-1b10-4adf-9bae-0809424a6a0b",
   "metadata": {
    "tags": []
   },
   "outputs": [
    {
     "data": {
      "text/plain": [
       "0"
      ]
     },
     "execution_count": 127,
     "metadata": {},
     "output_type": "execute_result"
    }
   ],
   "source": [
    "df.sale_price.isnull().sum()"
   ]
  },
  {
   "cell_type": "markdown",
   "id": "bcec8232-1adf-4579-b790-a4de7682f6f2",
   "metadata": {
    "tags": []
   },
   "source": [
    "- Sale_price is free of null values"
   ]
  },
  {
   "cell_type": "code",
   "execution_count": 128,
   "id": "2c794cd0-028d-4840-89d9-03ce51678cf2",
   "metadata": {
    "tags": []
   },
   "outputs": [],
   "source": [
    "# Working on null values of Product"
   ]
  },
  {
   "cell_type": "code",
   "execution_count": 129,
   "id": "18dc5bf4-6cec-4f83-ba16-592e76f307b6",
   "metadata": {
    "tags": []
   },
   "outputs": [
    {
     "data": {
      "text/plain": [
       "1"
      ]
     },
     "execution_count": 129,
     "metadata": {},
     "output_type": "execute_result"
    }
   ],
   "source": [
    "df['product'].isnull().sum()"
   ]
  },
  {
   "cell_type": "code",
   "execution_count": 130,
   "id": "c5683b93-1791-4240-a1a2-f8a635a6927d",
   "metadata": {
    "tags": []
   },
   "outputs": [
    {
     "data": {
      "text/html": [
       "<div>\n",
       "<style scoped>\n",
       "    .dataframe tbody tr th:only-of-type {\n",
       "        vertical-align: middle;\n",
       "    }\n",
       "\n",
       "    .dataframe tbody tr th {\n",
       "        vertical-align: top;\n",
       "    }\n",
       "\n",
       "    .dataframe thead th {\n",
       "        text-align: right;\n",
       "    }\n",
       "</style>\n",
       "<table border=\"1\" class=\"dataframe\">\n",
       "  <thead>\n",
       "    <tr style=\"text-align: right;\">\n",
       "      <th></th>\n",
       "      <th>index</th>\n",
       "      <th>product</th>\n",
       "      <th>category</th>\n",
       "      <th>sub_category</th>\n",
       "      <th>brand</th>\n",
       "      <th>sale_price</th>\n",
       "      <th>market_price</th>\n",
       "      <th>type</th>\n",
       "      <th>rating</th>\n",
       "      <th>description</th>\n",
       "    </tr>\n",
       "  </thead>\n",
       "  <tbody>\n",
       "    <tr>\n",
       "      <th>14363</th>\n",
       "      <td>14364</td>\n",
       "      <td>NaN</td>\n",
       "      <td>Beverages</td>\n",
       "      <td>Coffee</td>\n",
       "      <td>Cothas Coffee</td>\n",
       "      <td>200.0</td>\n",
       "      <td>240.0</td>\n",
       "      <td>Ground Coffee</td>\n",
       "      <td>4.2</td>\n",
       "      <td>Cothas Specialty Blend Coffee and Chicory incl...</td>\n",
       "    </tr>\n",
       "  </tbody>\n",
       "</table>\n",
       "</div>"
      ],
      "text/plain": [
       "       index product   category sub_category          brand  sale_price  \\\n",
       "14363  14364     NaN  Beverages       Coffee  Cothas Coffee       200.0   \n",
       "\n",
       "       market_price           type  rating  \\\n",
       "14363         240.0  Ground Coffee     4.2   \n",
       "\n",
       "                                             description  \n",
       "14363  Cothas Specialty Blend Coffee and Chicory incl...  "
      ]
     },
     "execution_count": 130,
     "metadata": {},
     "output_type": "execute_result"
    }
   ],
   "source": [
    "df[df['product'].isnull()]"
   ]
  },
  {
   "cell_type": "code",
   "execution_count": 131,
   "id": "c416662a-1d66-40f0-94a2-ce0029b3b41f",
   "metadata": {
    "tags": []
   },
   "outputs": [],
   "source": [
    "#Filling Null value\n",
    "\n",
    "df['product'].fillna('Coffee',inplace=True)"
   ]
  },
  {
   "cell_type": "code",
   "execution_count": 132,
   "id": "f609090c-4b21-42a5-8ac1-615dc74f2bb3",
   "metadata": {
    "tags": []
   },
   "outputs": [
    {
     "data": {
      "text/plain": [
       "0"
      ]
     },
     "execution_count": 132,
     "metadata": {},
     "output_type": "execute_result"
    }
   ],
   "source": [
    "df['product'].isnull().sum()"
   ]
  },
  {
   "cell_type": "code",
   "execution_count": 133,
   "id": "b25ca8f9-8fd4-4a12-8b13-840f57cbe86d",
   "metadata": {
    "tags": []
   },
   "outputs": [
    {
     "data": {
      "text/plain": [
       "index              0\n",
       "product            0\n",
       "category           0\n",
       "sub_category       0\n",
       "brand              1\n",
       "sale_price         0\n",
       "market_price       0\n",
       "type               0\n",
       "rating          8636\n",
       "description      115\n",
       "dtype: int64"
      ]
     },
     "execution_count": 133,
     "metadata": {},
     "output_type": "execute_result"
    }
   ],
   "source": [
    "df.isnull().sum()"
   ]
  },
  {
   "cell_type": "code",
   "execution_count": 134,
   "id": "ab7d0a10-a5d1-4dcd-8e9e-3ea1bf823fbf",
   "metadata": {
    "tags": []
   },
   "outputs": [
    {
     "data": {
      "text/html": [
       "<div>\n",
       "<style scoped>\n",
       "    .dataframe tbody tr th:only-of-type {\n",
       "        vertical-align: middle;\n",
       "    }\n",
       "\n",
       "    .dataframe tbody tr th {\n",
       "        vertical-align: top;\n",
       "    }\n",
       "\n",
       "    .dataframe thead th {\n",
       "        text-align: right;\n",
       "    }\n",
       "</style>\n",
       "<table border=\"1\" class=\"dataframe\">\n",
       "  <thead>\n",
       "    <tr style=\"text-align: right;\">\n",
       "      <th></th>\n",
       "      <th>index</th>\n",
       "      <th>product</th>\n",
       "      <th>category</th>\n",
       "      <th>sub_category</th>\n",
       "      <th>brand</th>\n",
       "      <th>sale_price</th>\n",
       "      <th>market_price</th>\n",
       "      <th>type</th>\n",
       "      <th>rating</th>\n",
       "      <th>description</th>\n",
       "    </tr>\n",
       "  </thead>\n",
       "  <tbody>\n",
       "    <tr>\n",
       "      <th>9765</th>\n",
       "      <td>9766</td>\n",
       "      <td>Food Package - Medium</td>\n",
       "      <td>Cleaning &amp; Household</td>\n",
       "      <td>Disposables, Garbage Bag</td>\n",
       "      <td>NaN</td>\n",
       "      <td>50.0</td>\n",
       "      <td>50.0</td>\n",
       "      <td>Aluminium Foil, Clingwrap</td>\n",
       "      <td>NaN</td>\n",
       "      <td>NaN</td>\n",
       "    </tr>\n",
       "  </tbody>\n",
       "</table>\n",
       "</div>"
      ],
      "text/plain": [
       "      index                product              category  \\\n",
       "9765   9766  Food Package - Medium  Cleaning & Household   \n",
       "\n",
       "                  sub_category brand  sale_price  market_price  \\\n",
       "9765  Disposables, Garbage Bag   NaN        50.0          50.0   \n",
       "\n",
       "                           type  rating description  \n",
       "9765  Aluminium Foil, Clingwrap     NaN         NaN  "
      ]
     },
     "execution_count": 134,
     "metadata": {},
     "output_type": "execute_result"
    }
   ],
   "source": [
    "df[df.brand.isnull()]"
   ]
  },
  {
   "cell_type": "code",
   "execution_count": 135,
   "id": "dee0d5a4-1de7-4d30-b26d-658e6f66d797",
   "metadata": {
    "tags": []
   },
   "outputs": [],
   "source": [
    "#code\n",
    "df.brand.fillna('Unknown',inplace=True)"
   ]
  },
  {
   "cell_type": "code",
   "execution_count": 136,
   "id": "8289ea3d-f294-4002-8d27-b6ee7edb7383",
   "metadata": {
    "tags": []
   },
   "outputs": [
    {
     "data": {
      "text/plain": [
       "0"
      ]
     },
     "execution_count": 136,
     "metadata": {},
     "output_type": "execute_result"
    }
   ],
   "source": [
    "#test\n",
    "df.brand.isnull().sum()"
   ]
  },
  {
   "cell_type": "code",
   "execution_count": 137,
   "id": "49404f2a-27c4-4755-a4d6-57a6502d2bf7",
   "metadata": {
    "tags": []
   },
   "outputs": [],
   "source": [
    "#working on null values of Rating column"
   ]
  },
  {
   "cell_type": "code",
   "execution_count": 138,
   "id": "2773cc0c-e3d3-4c1b-abf6-337310fa23c2",
   "metadata": {
    "tags": []
   },
   "outputs": [
    {
     "data": {
      "text/html": [
       "<div>\n",
       "<style scoped>\n",
       "    .dataframe tbody tr th:only-of-type {\n",
       "        vertical-align: middle;\n",
       "    }\n",
       "\n",
       "    .dataframe tbody tr th {\n",
       "        vertical-align: top;\n",
       "    }\n",
       "\n",
       "    .dataframe thead th {\n",
       "        text-align: right;\n",
       "    }\n",
       "</style>\n",
       "<table border=\"1\" class=\"dataframe\">\n",
       "  <thead>\n",
       "    <tr style=\"text-align: right;\">\n",
       "      <th></th>\n",
       "      <th>index</th>\n",
       "      <th>product</th>\n",
       "      <th>category</th>\n",
       "      <th>sub_category</th>\n",
       "      <th>brand</th>\n",
       "      <th>sale_price</th>\n",
       "      <th>market_price</th>\n",
       "      <th>type</th>\n",
       "      <th>rating</th>\n",
       "      <th>description</th>\n",
       "    </tr>\n",
       "  </thead>\n",
       "  <tbody>\n",
       "    <tr>\n",
       "      <th>55</th>\n",
       "      <td>56</td>\n",
       "      <td>Soothing Cucumber Facial Scrub With Apricot Seeds</td>\n",
       "      <td>Beauty &amp; Hygiene</td>\n",
       "      <td>Skin Care</td>\n",
       "      <td>TJORI</td>\n",
       "      <td>299.4</td>\n",
       "      <td>499.0</td>\n",
       "      <td>Face Care</td>\n",
       "      <td>NaN</td>\n",
       "      <td>The soothing feel of cucumber meets the gentle...</td>\n",
       "    </tr>\n",
       "    <tr>\n",
       "      <th>59</th>\n",
       "      <td>60</td>\n",
       "      <td>Corporate Planner Diary With Premium PU Leathe...</td>\n",
       "      <td>Cleaning &amp; Household</td>\n",
       "      <td>Stationery</td>\n",
       "      <td>Prozo Plus</td>\n",
       "      <td>399.0</td>\n",
       "      <td>399.0</td>\n",
       "      <td>Notebooks, Files, Folders</td>\n",
       "      <td>NaN</td>\n",
       "      <td>A5 Size (210x150mm) \\n192 Pages Premium Natura...</td>\n",
       "    </tr>\n",
       "    <tr>\n",
       "      <th>65</th>\n",
       "      <td>66</td>\n",
       "      <td>Ayurvedic Anti-Tan Face Pack</td>\n",
       "      <td>Beauty &amp; Hygiene</td>\n",
       "      <td>Skin Care</td>\n",
       "      <td>TJORI</td>\n",
       "      <td>269.4</td>\n",
       "      <td>449.0</td>\n",
       "      <td>Face Care</td>\n",
       "      <td>NaN</td>\n",
       "      <td>A nourishing face pack that removes tan and br...</td>\n",
       "    </tr>\n",
       "    <tr>\n",
       "      <th>68</th>\n",
       "      <td>69</td>\n",
       "      <td>Organic Carom Seeds/Ajwain/Om Kalu</td>\n",
       "      <td>Foodgrains, Oil &amp; Masala</td>\n",
       "      <td>Masalas &amp; Spices</td>\n",
       "      <td>Earthon</td>\n",
       "      <td>72.0</td>\n",
       "      <td>72.0</td>\n",
       "      <td>Whole Spices</td>\n",
       "      <td>NaN</td>\n",
       "      <td>Earthon's Ajwain is Best quality, organically ...</td>\n",
       "    </tr>\n",
       "    <tr>\n",
       "      <th>69</th>\n",
       "      <td>70</td>\n",
       "      <td>Padded Harness - 3/4 inch, Grey Colour</td>\n",
       "      <td>Kitchen, Garden &amp; Pets</td>\n",
       "      <td>Pet Food &amp; Accessories</td>\n",
       "      <td>Glenand</td>\n",
       "      <td>840.0</td>\n",
       "      <td>840.0</td>\n",
       "      <td>Pet Collars &amp; Leashes</td>\n",
       "      <td>NaN</td>\n",
       "      <td>These are soft padded harness for your active ...</td>\n",
       "    </tr>\n",
       "    <tr>\n",
       "      <th>...</th>\n",
       "      <td>...</td>\n",
       "      <td>...</td>\n",
       "      <td>...</td>\n",
       "      <td>...</td>\n",
       "      <td>...</td>\n",
       "      <td>...</td>\n",
       "      <td>...</td>\n",
       "      <td>...</td>\n",
       "      <td>...</td>\n",
       "      <td>...</td>\n",
       "    </tr>\n",
       "    <tr>\n",
       "      <th>27509</th>\n",
       "      <td>27510</td>\n",
       "      <td>Deluxe Crackers - Veg</td>\n",
       "      <td>Gourmet &amp; World Food</td>\n",
       "      <td>Chocolates &amp; Biscuits</td>\n",
       "      <td>Kerk</td>\n",
       "      <td>150.0</td>\n",
       "      <td>150.0</td>\n",
       "      <td>Cookies, Biscotti, Wafer</td>\n",
       "      <td>NaN</td>\n",
       "      <td>Kerk Biscuits-has been a household name synony...</td>\n",
       "    </tr>\n",
       "    <tr>\n",
       "      <th>27511</th>\n",
       "      <td>27512</td>\n",
       "      <td>Specialist Stain Remover Pen &amp; Marker</td>\n",
       "      <td>Cleaning &amp; Household</td>\n",
       "      <td>All Purpose Cleaners</td>\n",
       "      <td>365</td>\n",
       "      <td>449.0</td>\n",
       "      <td>449.0</td>\n",
       "      <td>Imported Cleaners</td>\n",
       "      <td>NaN</td>\n",
       "      <td>Mightier than the pen. The pen may be mightier...</td>\n",
       "    </tr>\n",
       "    <tr>\n",
       "      <th>27514</th>\n",
       "      <td>27515</td>\n",
       "      <td>Verge &amp; Sheer Perfume For Pair</td>\n",
       "      <td>Beauty &amp; Hygiene</td>\n",
       "      <td>Fragrances &amp; Deos</td>\n",
       "      <td>Skinn by Titan</td>\n",
       "      <td>1615.5</td>\n",
       "      <td>1795.0</td>\n",
       "      <td>Perfume</td>\n",
       "      <td>NaN</td>\n",
       "      <td>VERGE for men paints a picture of a classy out...</td>\n",
       "    </tr>\n",
       "    <tr>\n",
       "      <th>27530</th>\n",
       "      <td>27531</td>\n",
       "      <td>Tick'et to Fleadom Dry Shampoo For Dogs</td>\n",
       "      <td>Kitchen, Garden &amp; Pets</td>\n",
       "      <td>Pet Food &amp; Accessories</td>\n",
       "      <td>Captain Zack</td>\n",
       "      <td>99.0</td>\n",
       "      <td>99.0</td>\n",
       "      <td>Pet Cleaning &amp; Grooming</td>\n",
       "      <td>NaN</td>\n",
       "      <td>1) No Rinse Defence Against Ticks and Fleas: C...</td>\n",
       "    </tr>\n",
       "    <tr>\n",
       "      <th>27531</th>\n",
       "      <td>27532</td>\n",
       "      <td>Vanilla Ice Cream</td>\n",
       "      <td>Gourmet &amp; World Food</td>\n",
       "      <td>Dairy &amp; Cheese</td>\n",
       "      <td>Haagen-Dazs</td>\n",
       "      <td>225.0</td>\n",
       "      <td>225.0</td>\n",
       "      <td>Gourmet Ice Cream</td>\n",
       "      <td>NaN</td>\n",
       "      <td>Some things are so good in their simplest form...</td>\n",
       "    </tr>\n",
       "  </tbody>\n",
       "</table>\n",
       "<p>8636 rows × 10 columns</p>\n",
       "</div>"
      ],
      "text/plain": [
       "       index                                            product  \\\n",
       "55        56  Soothing Cucumber Facial Scrub With Apricot Seeds   \n",
       "59        60  Corporate Planner Diary With Premium PU Leathe...   \n",
       "65        66                       Ayurvedic Anti-Tan Face Pack   \n",
       "68        69                 Organic Carom Seeds/Ajwain/Om Kalu   \n",
       "69        70             Padded Harness - 3/4 inch, Grey Colour   \n",
       "...      ...                                                ...   \n",
       "27509  27510                              Deluxe Crackers - Veg   \n",
       "27511  27512              Specialist Stain Remover Pen & Marker   \n",
       "27514  27515                     Verge & Sheer Perfume For Pair   \n",
       "27530  27531            Tick'et to Fleadom Dry Shampoo For Dogs   \n",
       "27531  27532                                  Vanilla Ice Cream   \n",
       "\n",
       "                       category            sub_category           brand  \\\n",
       "55             Beauty & Hygiene               Skin Care           TJORI   \n",
       "59         Cleaning & Household              Stationery      Prozo Plus   \n",
       "65             Beauty & Hygiene               Skin Care           TJORI   \n",
       "68     Foodgrains, Oil & Masala        Masalas & Spices         Earthon   \n",
       "69       Kitchen, Garden & Pets  Pet Food & Accessories         Glenand   \n",
       "...                         ...                     ...             ...   \n",
       "27509      Gourmet & World Food   Chocolates & Biscuits            Kerk   \n",
       "27511      Cleaning & Household    All Purpose Cleaners             365   \n",
       "27514          Beauty & Hygiene       Fragrances & Deos  Skinn by Titan   \n",
       "27530    Kitchen, Garden & Pets  Pet Food & Accessories    Captain Zack   \n",
       "27531      Gourmet & World Food          Dairy & Cheese     Haagen-Dazs   \n",
       "\n",
       "       sale_price  market_price                       type  rating  \\\n",
       "55          299.4         499.0                  Face Care     NaN   \n",
       "59          399.0         399.0  Notebooks, Files, Folders     NaN   \n",
       "65          269.4         449.0                  Face Care     NaN   \n",
       "68           72.0          72.0               Whole Spices     NaN   \n",
       "69          840.0         840.0      Pet Collars & Leashes     NaN   \n",
       "...           ...           ...                        ...     ...   \n",
       "27509       150.0         150.0   Cookies, Biscotti, Wafer     NaN   \n",
       "27511       449.0         449.0          Imported Cleaners     NaN   \n",
       "27514      1615.5        1795.0                    Perfume     NaN   \n",
       "27530        99.0          99.0    Pet Cleaning & Grooming     NaN   \n",
       "27531       225.0         225.0          Gourmet Ice Cream     NaN   \n",
       "\n",
       "                                             description  \n",
       "55     The soothing feel of cucumber meets the gentle...  \n",
       "59     A5 Size (210x150mm) \\n192 Pages Premium Natura...  \n",
       "65     A nourishing face pack that removes tan and br...  \n",
       "68     Earthon's Ajwain is Best quality, organically ...  \n",
       "69     These are soft padded harness for your active ...  \n",
       "...                                                  ...  \n",
       "27509  Kerk Biscuits-has been a household name synony...  \n",
       "27511  Mightier than the pen. The pen may be mightier...  \n",
       "27514  VERGE for men paints a picture of a classy out...  \n",
       "27530  1) No Rinse Defence Against Ticks and Fleas: C...  \n",
       "27531  Some things are so good in their simplest form...  \n",
       "\n",
       "[8636 rows x 10 columns]"
      ]
     },
     "execution_count": 138,
     "metadata": {},
     "output_type": "execute_result"
    }
   ],
   "source": [
    "df[df.rating.isnull()]"
   ]
  },
  {
   "cell_type": "code",
   "execution_count": 139,
   "id": "e69a97eb-cd6d-4a61-93f9-11d180b4f33f",
   "metadata": {
    "tags": []
   },
   "outputs": [
    {
     "data": {
      "text/plain": [
       "rating\n",
       "4.2    2249\n",
       "4.3    2138\n",
       "4.0    2089\n",
       "4.1    1767\n",
       "5.0    1407\n",
       "4.4    1037\n",
       "3.9     932\n",
       "3.8     866\n",
       "4.5     797\n",
       "3.0     684\n",
       "3.7     672\n",
       "3.5     535\n",
       "3.6     447\n",
       "3.3     400\n",
       "1.0     387\n",
       "4.6     322\n",
       "3.4     303\n",
       "4.7     287\n",
       "2.0     237\n",
       "4.8     199\n",
       "3.2     181\n",
       "3.1     163\n",
       "2.5     132\n",
       "2.8     125\n",
       "2.7     116\n",
       "2.3      94\n",
       "2.9      79\n",
       "2.6      58\n",
       "4.9      53\n",
       "1.5      32\n",
       "2.4      29\n",
       "2.2      24\n",
       "1.8      22\n",
       "1.7      22\n",
       "2.1      10\n",
       "1.3       9\n",
       "1.4       6\n",
       "1.9       4\n",
       "1.6       3\n",
       "1.2       2\n",
       "Name: count, dtype: int64"
      ]
     },
     "execution_count": 139,
     "metadata": {},
     "output_type": "execute_result"
    }
   ],
   "source": [
    "df.rating.value_counts()"
   ]
  },
  {
   "cell_type": "code",
   "execution_count": 140,
   "id": "77e8704c-1986-42e0-a6cf-aca8b20fe4d5",
   "metadata": {
    "tags": []
   },
   "outputs": [],
   "source": [
    "#define"
   ]
  },
  {
   "cell_type": "code",
   "execution_count": 141,
   "id": "195799d0-cec9-4e74-9595-f8a5395c023a",
   "metadata": {
    "tags": []
   },
   "outputs": [],
   "source": [
    "#code\n",
    "df.rating.fillna(0,inplace=True)"
   ]
  },
  {
   "cell_type": "code",
   "execution_count": 142,
   "id": "63004051-f363-4ba7-af37-85df9ba515bb",
   "metadata": {
    "tags": []
   },
   "outputs": [
    {
     "data": {
      "text/plain": [
       "0"
      ]
     },
     "execution_count": 142,
     "metadata": {},
     "output_type": "execute_result"
    }
   ],
   "source": [
    "#test\n",
    "df.rating.isnull().sum()"
   ]
  },
  {
   "cell_type": "code",
   "execution_count": 143,
   "id": "42f87c9c-731c-4c09-b374-e3a637e08cc6",
   "metadata": {
    "tags": []
   },
   "outputs": [],
   "source": [
    "# Working on description column"
   ]
  },
  {
   "cell_type": "code",
   "execution_count": 144,
   "id": "5c8f0400-622b-49f4-b907-3df95428257e",
   "metadata": {
    "tags": []
   },
   "outputs": [
    {
     "data": {
      "text/plain": [
       "115"
      ]
     },
     "execution_count": 144,
     "metadata": {},
     "output_type": "execute_result"
    }
   ],
   "source": [
    "df.description.isnull().sum()"
   ]
  },
  {
   "cell_type": "code",
   "execution_count": 145,
   "id": "f2a5f1c5-e1d7-4f0f-9392-df16ae92ec5c",
   "metadata": {
    "tags": []
   },
   "outputs": [
    {
     "data": {
      "text/html": [
       "<div>\n",
       "<style scoped>\n",
       "    .dataframe tbody tr th:only-of-type {\n",
       "        vertical-align: middle;\n",
       "    }\n",
       "\n",
       "    .dataframe tbody tr th {\n",
       "        vertical-align: top;\n",
       "    }\n",
       "\n",
       "    .dataframe thead th {\n",
       "        text-align: right;\n",
       "    }\n",
       "</style>\n",
       "<table border=\"1\" class=\"dataframe\">\n",
       "  <thead>\n",
       "    <tr style=\"text-align: right;\">\n",
       "      <th></th>\n",
       "      <th>index</th>\n",
       "      <th>product</th>\n",
       "      <th>category</th>\n",
       "      <th>sub_category</th>\n",
       "      <th>brand</th>\n",
       "      <th>sale_price</th>\n",
       "      <th>market_price</th>\n",
       "      <th>type</th>\n",
       "      <th>rating</th>\n",
       "      <th>description</th>\n",
       "    </tr>\n",
       "  </thead>\n",
       "  <tbody>\n",
       "    <tr>\n",
       "      <th>288</th>\n",
       "      <td>289</td>\n",
       "      <td>Arrabbiata Tomato Pasta Sauce With Chilli</td>\n",
       "      <td>Gourmet &amp; World Food</td>\n",
       "      <td>Sauces, Spreads &amp; Dips</td>\n",
       "      <td>Montanini</td>\n",
       "      <td>22325.00</td>\n",
       "      <td>325.0</td>\n",
       "      <td>Mustard &amp; Cheese Sauces</td>\n",
       "      <td>5.0</td>\n",
       "      <td>NaN</td>\n",
       "    </tr>\n",
       "    <tr>\n",
       "      <th>480</th>\n",
       "      <td>481</td>\n",
       "      <td>Pumice Stone &amp; Emery Foot Filer - FFL3407, Col...</td>\n",
       "      <td>Beauty &amp; Hygiene</td>\n",
       "      <td>Bath &amp; Hand Wash</td>\n",
       "      <td>Kaiv</td>\n",
       "      <td>175.00</td>\n",
       "      <td>175.0</td>\n",
       "      <td>Bathing Accessories</td>\n",
       "      <td>3.8</td>\n",
       "      <td>NaN</td>\n",
       "    </tr>\n",
       "    <tr>\n",
       "      <th>780</th>\n",
       "      <td>781</td>\n",
       "      <td>Peanut Butter - Chunky</td>\n",
       "      <td>Gourmet &amp; World Food</td>\n",
       "      <td>Sauces, Spreads &amp; Dips</td>\n",
       "      <td>American Garden</td>\n",
       "      <td>299.00</td>\n",
       "      <td>299.0</td>\n",
       "      <td>Chocolate, Peanut Spread</td>\n",
       "      <td>4.1</td>\n",
       "      <td>NaN</td>\n",
       "    </tr>\n",
       "    <tr>\n",
       "      <th>845</th>\n",
       "      <td>846</td>\n",
       "      <td>Squash - Sarasaparilla/Nannari/Sugandhi Root</td>\n",
       "      <td>Beverages</td>\n",
       "      <td>Fruit Juices &amp; Drinks</td>\n",
       "      <td>NaturoBell</td>\n",
       "      <td>140.00</td>\n",
       "      <td>140.0</td>\n",
       "      <td>Syrups &amp; Concentrates</td>\n",
       "      <td>2.5</td>\n",
       "      <td>NaN</td>\n",
       "    </tr>\n",
       "    <tr>\n",
       "      <th>1047</th>\n",
       "      <td>1048</td>\n",
       "      <td>Natura Rice &amp; Walnut Drink, Vegan</td>\n",
       "      <td>Gourmet &amp; World Food</td>\n",
       "      <td>Drinks &amp; Beverages</td>\n",
       "      <td>BORGES</td>\n",
       "      <td>275.01</td>\n",
       "      <td>349.0</td>\n",
       "      <td>Health Drinks</td>\n",
       "      <td>4.5</td>\n",
       "      <td>NaN</td>\n",
       "    </tr>\n",
       "    <tr>\n",
       "      <th>...</th>\n",
       "      <td>...</td>\n",
       "      <td>...</td>\n",
       "      <td>...</td>\n",
       "      <td>...</td>\n",
       "      <td>...</td>\n",
       "      <td>...</td>\n",
       "      <td>...</td>\n",
       "      <td>...</td>\n",
       "      <td>...</td>\n",
       "      <td>...</td>\n",
       "    </tr>\n",
       "    <tr>\n",
       "      <th>25510</th>\n",
       "      <td>25511</td>\n",
       "      <td>BBPopular Almond/Badam Californian 500gm + BBR...</td>\n",
       "      <td>Foodgrains, Oil &amp; Masala</td>\n",
       "      <td>Dry Fruits</td>\n",
       "      <td>bb Combo</td>\n",
       "      <td>443.00</td>\n",
       "      <td>725.0</td>\n",
       "      <td>Almonds</td>\n",
       "      <td>0.0</td>\n",
       "      <td>NaN</td>\n",
       "    </tr>\n",
       "    <tr>\n",
       "      <th>25583</th>\n",
       "      <td>25584</td>\n",
       "      <td>Chai/Chai/Tea/ Coffee Bone China Microwave Ser...</td>\n",
       "      <td>Kitchen, Garden &amp; Pets</td>\n",
       "      <td>Crockery &amp; Cutlery</td>\n",
       "      <td>BP Bharat</td>\n",
       "      <td>269.00</td>\n",
       "      <td>373.0</td>\n",
       "      <td>Cups, Mugs &amp; Tumblers</td>\n",
       "      <td>2.5</td>\n",
       "      <td>NaN</td>\n",
       "    </tr>\n",
       "    <tr>\n",
       "      <th>26116</th>\n",
       "      <td>26117</td>\n",
       "      <td>Tea Strainer - Stainless Steel, Medium</td>\n",
       "      <td>Kitchen, Garden &amp; Pets</td>\n",
       "      <td>Kitchen Accessories</td>\n",
       "      <td>Ritu</td>\n",
       "      <td>99.00</td>\n",
       "      <td>135.0</td>\n",
       "      <td>Strainer, Ladle, Spatula</td>\n",
       "      <td>4.3</td>\n",
       "      <td>NaN</td>\n",
       "    </tr>\n",
       "    <tr>\n",
       "      <th>26835</th>\n",
       "      <td>26836</td>\n",
       "      <td>Cold Pressed Virgin Groundnut Oil</td>\n",
       "      <td>Foodgrains, Oil &amp; Masala</td>\n",
       "      <td>Edible Oils &amp; Ghee</td>\n",
       "      <td>Chekko</td>\n",
       "      <td>325.00</td>\n",
       "      <td>325.0</td>\n",
       "      <td>Groundnut Oil</td>\n",
       "      <td>4.2</td>\n",
       "      <td>NaN</td>\n",
       "    </tr>\n",
       "    <tr>\n",
       "      <th>27303</th>\n",
       "      <td>27304</td>\n",
       "      <td>Zipper Storage - Gallon</td>\n",
       "      <td>Cleaning &amp; Household</td>\n",
       "      <td>Disposables, Garbage Bag</td>\n",
       "      <td>Glad</td>\n",
       "      <td>350.00</td>\n",
       "      <td>350.0</td>\n",
       "      <td>Aluminium Foil, Clingwrap</td>\n",
       "      <td>4.7</td>\n",
       "      <td>NaN</td>\n",
       "    </tr>\n",
       "  </tbody>\n",
       "</table>\n",
       "<p>115 rows × 10 columns</p>\n",
       "</div>"
      ],
      "text/plain": [
       "       index                                            product  \\\n",
       "288      289          Arrabbiata Tomato Pasta Sauce With Chilli   \n",
       "480      481  Pumice Stone & Emery Foot Filer - FFL3407, Col...   \n",
       "780      781                             Peanut Butter - Chunky   \n",
       "845      846       Squash - Sarasaparilla/Nannari/Sugandhi Root   \n",
       "1047    1048                  Natura Rice & Walnut Drink, Vegan   \n",
       "...      ...                                                ...   \n",
       "25510  25511  BBPopular Almond/Badam Californian 500gm + BBR...   \n",
       "25583  25584  Chai/Chai/Tea/ Coffee Bone China Microwave Ser...   \n",
       "26116  26117             Tea Strainer - Stainless Steel, Medium   \n",
       "26835  26836                  Cold Pressed Virgin Groundnut Oil   \n",
       "27303  27304                            Zipper Storage - Gallon   \n",
       "\n",
       "                       category              sub_category             brand  \\\n",
       "288        Gourmet & World Food    Sauces, Spreads & Dips         Montanini   \n",
       "480            Beauty & Hygiene          Bath & Hand Wash              Kaiv   \n",
       "780        Gourmet & World Food    Sauces, Spreads & Dips  American Garden    \n",
       "845                   Beverages     Fruit Juices & Drinks        NaturoBell   \n",
       "1047       Gourmet & World Food        Drinks & Beverages            BORGES   \n",
       "...                         ...                       ...               ...   \n",
       "25510  Foodgrains, Oil & Masala                Dry Fruits          bb Combo   \n",
       "25583    Kitchen, Garden & Pets        Crockery & Cutlery         BP Bharat   \n",
       "26116    Kitchen, Garden & Pets       Kitchen Accessories              Ritu   \n",
       "26835  Foodgrains, Oil & Masala        Edible Oils & Ghee            Chekko   \n",
       "27303      Cleaning & Household  Disposables, Garbage Bag              Glad   \n",
       "\n",
       "       sale_price  market_price                       type  rating description  \n",
       "288      22325.00         325.0    Mustard & Cheese Sauces     5.0         NaN  \n",
       "480        175.00         175.0        Bathing Accessories     3.8         NaN  \n",
       "780        299.00         299.0   Chocolate, Peanut Spread     4.1         NaN  \n",
       "845        140.00         140.0      Syrups & Concentrates     2.5         NaN  \n",
       "1047       275.01         349.0              Health Drinks     4.5         NaN  \n",
       "...           ...           ...                        ...     ...         ...  \n",
       "25510      443.00         725.0                    Almonds     0.0         NaN  \n",
       "25583      269.00         373.0      Cups, Mugs & Tumblers     2.5         NaN  \n",
       "26116       99.00         135.0   Strainer, Ladle, Spatula     4.3         NaN  \n",
       "26835      325.00         325.0              Groundnut Oil     4.2         NaN  \n",
       "27303      350.00         350.0  Aluminium Foil, Clingwrap     4.7         NaN  \n",
       "\n",
       "[115 rows x 10 columns]"
      ]
     },
     "execution_count": 145,
     "metadata": {},
     "output_type": "execute_result"
    }
   ],
   "source": [
    "df[df.description.isnull()]"
   ]
  },
  {
   "cell_type": "code",
   "execution_count": 146,
   "id": "4e62ea0a-10ad-43ef-9f21-b54a2b61e89a",
   "metadata": {
    "tags": []
   },
   "outputs": [],
   "source": [
    "#code\n",
    "df.description.fillna('No description',inplace=True)"
   ]
  },
  {
   "cell_type": "code",
   "execution_count": 147,
   "id": "0035f111-2d4a-4f31-bf12-20e0988b6265",
   "metadata": {
    "tags": []
   },
   "outputs": [
    {
     "data": {
      "text/plain": [
       "0"
      ]
     },
     "execution_count": 147,
     "metadata": {},
     "output_type": "execute_result"
    }
   ],
   "source": [
    "#test\n",
    "df.description.isnull().sum()"
   ]
  },
  {
   "cell_type": "markdown",
   "id": "9defcf28-f926-4603-a239-749f001d87d7",
   "metadata": {
    "tags": []
   },
   "source": [
    "#####  Whole Dataset is free of null values"
   ]
  },
  {
   "cell_type": "markdown",
   "id": "17858b47-2fc2-4981-9768-849732d4d665",
   "metadata": {},
   "source": [
    "#### Working on Duplicates"
   ]
  },
  {
   "cell_type": "code",
   "execution_count": 148,
   "id": "696f939b-24a1-4fc3-8794-2130e479fc2a",
   "metadata": {
    "tags": []
   },
   "outputs": [
    {
     "data": {
      "text/plain": [
       "0"
      ]
     },
     "execution_count": 148,
     "metadata": {},
     "output_type": "execute_result"
    }
   ],
   "source": [
    "df.duplicated().sum()"
   ]
  },
  {
   "cell_type": "markdown",
   "id": "b67d9661-f8a9-4a37-bc2f-61a70be6b635",
   "metadata": {
    "tags": []
   },
   "source": [
    "###### - No duplicated values"
   ]
  },
  {
   "cell_type": "code",
   "execution_count": 149,
   "id": "a03799e3-951c-42b0-bd8a-02a30210e2d3",
   "metadata": {
    "tags": []
   },
   "outputs": [],
   "source": [
    "# Validity"
   ]
  },
  {
   "cell_type": "markdown",
   "id": "f2fef774-70a6-4cac-8b46-40714b929f4c",
   "metadata": {},
   "source": [
    "##### Working on Accuracy"
   ]
  },
  {
   "cell_type": "markdown",
   "id": "4e8d24cc-c7b8-4c8d-940c-9ef9746d11b8",
   "metadata": {},
   "source": [
    " - Outliers\n",
    " - Wrong Entries"
   ]
  },
  {
   "cell_type": "code",
   "execution_count": 150,
   "id": "a17445b1-63c7-4bf3-89e4-fb808bd20139",
   "metadata": {
    "tags": []
   },
   "outputs": [],
   "source": [
    "# Checking Outliers"
   ]
  },
  {
   "cell_type": "code",
   "execution_count": 151,
   "id": "12848403-3abe-423d-a43d-227c7da01f29",
   "metadata": {
    "tags": []
   },
   "outputs": [
    {
     "data": {
      "text/html": [
       "<div>\n",
       "<style scoped>\n",
       "    .dataframe tbody tr th:only-of-type {\n",
       "        vertical-align: middle;\n",
       "    }\n",
       "\n",
       "    .dataframe tbody tr th {\n",
       "        vertical-align: top;\n",
       "    }\n",
       "\n",
       "    .dataframe thead th {\n",
       "        text-align: right;\n",
       "    }\n",
       "</style>\n",
       "<table border=\"1\" class=\"dataframe\">\n",
       "  <thead>\n",
       "    <tr style=\"text-align: right;\">\n",
       "      <th></th>\n",
       "      <th>index</th>\n",
       "      <th>product</th>\n",
       "      <th>category</th>\n",
       "      <th>sub_category</th>\n",
       "      <th>brand</th>\n",
       "      <th>sale_price</th>\n",
       "      <th>market_price</th>\n",
       "      <th>type</th>\n",
       "      <th>rating</th>\n",
       "      <th>description</th>\n",
       "    </tr>\n",
       "  </thead>\n",
       "  <tbody>\n",
       "    <tr>\n",
       "      <th>248</th>\n",
       "      <td>249</td>\n",
       "      <td>4mm Aluminium Induction Base Chapati Roti Tawa...</td>\n",
       "      <td>Kitchen, Garden &amp; Pets</td>\n",
       "      <td>Cookware &amp; Non Stick</td>\n",
       "      <td>HAZEL</td>\n",
       "      <td>111649.0</td>\n",
       "      <td>1289.0</td>\n",
       "      <td>Tawa &amp; Sauce Pan</td>\n",
       "      <td>0.0</td>\n",
       "      <td>Hazel Aluminium Tawa has an ergonomic design f...</td>\n",
       "    </tr>\n",
       "    <tr>\n",
       "      <th>288</th>\n",
       "      <td>289</td>\n",
       "      <td>Arrabbiata Tomato Pasta Sauce With Chilli</td>\n",
       "      <td>Gourmet &amp; World Food</td>\n",
       "      <td>Sauces, Spreads &amp; Dips</td>\n",
       "      <td>Montanini</td>\n",
       "      <td>22325.0</td>\n",
       "      <td>325.0</td>\n",
       "      <td>Mustard &amp; Cheese Sauces</td>\n",
       "      <td>5.0</td>\n",
       "      <td>No description</td>\n",
       "    </tr>\n",
       "    <tr>\n",
       "      <th>412</th>\n",
       "      <td>413</td>\n",
       "      <td>Original Care Lip Balm For 24h Moisture With S...</td>\n",
       "      <td>Beauty &amp; Hygiene</td>\n",
       "      <td>Skin Care</td>\n",
       "      <td>Nivea</td>\n",
       "      <td>1114.8</td>\n",
       "      <td>140.0</td>\n",
       "      <td>Lip Care</td>\n",
       "      <td>4.3</td>\n",
       "      <td>Nivea Original Care Lip Blam nourishes lips in...</td>\n",
       "    </tr>\n",
       "    <tr>\n",
       "      <th>436</th>\n",
       "      <td>437</td>\n",
       "      <td>Balloon - Polka Dot, 12 Inch</td>\n",
       "      <td>Cleaning &amp; Household</td>\n",
       "      <td>Party &amp; Festive Needs</td>\n",
       "      <td>B Vishal</td>\n",
       "      <td>88899.0</td>\n",
       "      <td>129.0</td>\n",
       "      <td>Caps, Balloons &amp; Candles</td>\n",
       "      <td>3.9</td>\n",
       "      <td>Whether it is a party in the office, a Christm...</td>\n",
       "    </tr>\n",
       "    <tr>\n",
       "      <th>1249</th>\n",
       "      <td>1250</td>\n",
       "      <td>Beard Kit</td>\n",
       "      <td>Beauty &amp; Hygiene</td>\n",
       "      <td>Men's Grooming</td>\n",
       "      <td>Uncle Tony</td>\n",
       "      <td>112475.0</td>\n",
       "      <td>3300.0</td>\n",
       "      <td>Combos &amp; Gift Sets</td>\n",
       "      <td>0.0</td>\n",
       "      <td>The combination of a beard oil, a beard wash, ...</td>\n",
       "    </tr>\n",
       "  </tbody>\n",
       "</table>\n",
       "</div>"
      ],
      "text/plain": [
       "      index                                            product  \\\n",
       "248     249  4mm Aluminium Induction Base Chapati Roti Tawa...   \n",
       "288     289          Arrabbiata Tomato Pasta Sauce With Chilli   \n",
       "412     413  Original Care Lip Balm For 24h Moisture With S...   \n",
       "436     437                       Balloon - Polka Dot, 12 Inch   \n",
       "1249   1250                                          Beard Kit   \n",
       "\n",
       "                    category            sub_category       brand  sale_price  \\\n",
       "248   Kitchen, Garden & Pets    Cookware & Non Stick       HAZEL    111649.0   \n",
       "288     Gourmet & World Food  Sauces, Spreads & Dips   Montanini     22325.0   \n",
       "412         Beauty & Hygiene               Skin Care       Nivea      1114.8   \n",
       "436     Cleaning & Household   Party & Festive Needs    B Vishal     88899.0   \n",
       "1249        Beauty & Hygiene          Men's Grooming  Uncle Tony    112475.0   \n",
       "\n",
       "      market_price                      type  rating  \\\n",
       "248         1289.0          Tawa & Sauce Pan     0.0   \n",
       "288          325.0   Mustard & Cheese Sauces     5.0   \n",
       "412          140.0                  Lip Care     4.3   \n",
       "436          129.0  Caps, Balloons & Candles     3.9   \n",
       "1249        3300.0        Combos & Gift Sets     0.0   \n",
       "\n",
       "                                            description  \n",
       "248   Hazel Aluminium Tawa has an ergonomic design f...  \n",
       "288                                      No description  \n",
       "412   Nivea Original Care Lip Blam nourishes lips in...  \n",
       "436   Whether it is a party in the office, a Christm...  \n",
       "1249  The combination of a beard oil, a beard wash, ...  "
      ]
     },
     "execution_count": 151,
     "metadata": {},
     "output_type": "execute_result"
    }
   ],
   "source": [
    "df[df.sale_price>df.market_price]"
   ]
  },
  {
   "cell_type": "code",
   "execution_count": 152,
   "id": "fee7057e-50bf-4c81-8e32-54089c1c6503",
   "metadata": {
    "tags": []
   },
   "outputs": [
    {
     "data": {
      "text/plain": [
       "<Axes: xlabel='market_price', ylabel='sale_price'>"
      ]
     },
     "execution_count": 152,
     "metadata": {},
     "output_type": "execute_result"
    },
    {
     "data": {
      "image/png": "[encoded data removed]",
      "text/plain": [
       "<Figure size 640x480 with 1 Axes>"
      ]
     },
     "metadata": {},
     "output_type": "display_data"
    }
   ],
   "source": [
    "sns.scatterplot(data=df,y='sale_price',x='market_price')"
   ]
  },
  {
   "cell_type": "code",
   "execution_count": 153,
   "id": "4e3bae9e-06c9-4dc1-b811-a1c73eac5ac8",
   "metadata": {
    "tags": []
   },
   "outputs": [
    {
     "data": {
      "text/plain": [
       "1201.9769904246652"
      ]
     },
     "execution_count": 153,
     "metadata": {},
     "output_type": "execute_result"
    }
   ],
   "source": [
    "df.sale_price.std()"
   ]
  },
  {
   "cell_type": "code",
   "execution_count": 154,
   "id": "bd2066fe-cb83-44e3-87cc-4806dfdb34ac",
   "metadata": {
    "tags": []
   },
   "outputs": [],
   "source": [
    "df.sale_price = np.where(df.sale_price > df.market_price, df.market_price, df.sale_price)"
   ]
  },
  {
   "cell_type": "code",
   "execution_count": 155,
   "id": "d098a3e2-d6de-47f2-b7db-3577c8dbcef6",
   "metadata": {
    "tags": []
   },
   "outputs": [
    {
     "data": {
      "text/plain": [
       "<Axes: xlabel='market_price', ylabel='sale_price'>"
      ]
     },
     "execution_count": 155,
     "metadata": {},
     "output_type": "execute_result"
    },
    {
     "data": {
      "image/png": "[encoded data removed]",
      "text/plain": [
       "<Figure size 640x480 with 1 Axes>"
      ]
     },
     "metadata": {},
     "output_type": "display_data"
    }
   ],
   "source": [
    "sns.scatterplot(data = df,y = \"sale_price\", x = \"market_price\")"
   ]
  },
  {
   "cell_type": "code",
   "execution_count": 156,
   "id": "d13bf781-e2b1-4fba-9a4e-5b7c98484794",
   "metadata": {
    "tags": []
   },
   "outputs": [
    {
     "data": {
      "text/html": [
       "<div>\n",
       "<style scoped>\n",
       "    .dataframe tbody tr th:only-of-type {\n",
       "        vertical-align: middle;\n",
       "    }\n",
       "\n",
       "    .dataframe tbody tr th {\n",
       "        vertical-align: top;\n",
       "    }\n",
       "\n",
       "    .dataframe thead th {\n",
       "        text-align: right;\n",
       "    }\n",
       "</style>\n",
       "<table border=\"1\" class=\"dataframe\">\n",
       "  <thead>\n",
       "    <tr style=\"text-align: right;\">\n",
       "      <th></th>\n",
       "      <th>index</th>\n",
       "      <th>product</th>\n",
       "      <th>category</th>\n",
       "      <th>sub_category</th>\n",
       "      <th>brand</th>\n",
       "      <th>sale_price</th>\n",
       "      <th>market_price</th>\n",
       "      <th>type</th>\n",
       "      <th>rating</th>\n",
       "      <th>description</th>\n",
       "    </tr>\n",
       "  </thead>\n",
       "  <tbody>\n",
       "    <tr>\n",
       "      <th>1056</th>\n",
       "      <td>1057</td>\n",
       "      <td>Gas Stove-3 Burner Royale Plus Schott Glass, B...</td>\n",
       "      <td>Kitchen, Garden &amp; Pets</td>\n",
       "      <td>Cookware &amp; Non Stick</td>\n",
       "      <td>Prestige</td>\n",
       "      <td>6999.00</td>\n",
       "      <td>10695.0</td>\n",
       "      <td>Gas Stove</td>\n",
       "      <td>0.0</td>\n",
       "      <td>Prestige Royale Plus Gas Stove. Add a Touch of...</td>\n",
       "    </tr>\n",
       "    <tr>\n",
       "      <th>12669</th>\n",
       "      <td>12670</td>\n",
       "      <td>Epilator SE9-9961 Legs-Body-Face</td>\n",
       "      <td>Beauty &amp; Hygiene</td>\n",
       "      <td>Feminine Hygiene</td>\n",
       "      <td>Braun</td>\n",
       "      <td>8184.44</td>\n",
       "      <td>10769.0</td>\n",
       "      <td>Hair Removal</td>\n",
       "      <td>0.0</td>\n",
       "      <td>This cordless epilator has a sonic exfoliation...</td>\n",
       "    </tr>\n",
       "    <tr>\n",
       "      <th>21761</th>\n",
       "      <td>21762</td>\n",
       "      <td>Pet Food - N&amp;D Team Breeder Puppy Top Farmina</td>\n",
       "      <td>Kitchen, Garden &amp; Pets</td>\n",
       "      <td>Pet Food &amp; Accessories</td>\n",
       "      <td>Farmina</td>\n",
       "      <td>10090.00</td>\n",
       "      <td>10090.0</td>\n",
       "      <td>Pet Meals &amp; Treats</td>\n",
       "      <td>0.0</td>\n",
       "      <td>Dog Food Adult Health Nutritional Dog Food.</td>\n",
       "    </tr>\n",
       "    <tr>\n",
       "      <th>23082</th>\n",
       "      <td>23083</td>\n",
       "      <td>Gas Stove-4 Burner Royale Plus Schott Glass, B...</td>\n",
       "      <td>Kitchen, Garden &amp; Pets</td>\n",
       "      <td>Cookware &amp; Non Stick</td>\n",
       "      <td>Prestige</td>\n",
       "      <td>7999.00</td>\n",
       "      <td>12245.0</td>\n",
       "      <td>Gas Stove</td>\n",
       "      <td>0.0</td>\n",
       "      <td>Prestige Royale Plus Gas Stove. Add a Touch of...</td>\n",
       "    </tr>\n",
       "    <tr>\n",
       "      <th>25301</th>\n",
       "      <td>25302</td>\n",
       "      <td>Bravura Clipper</td>\n",
       "      <td>Kitchen, Garden &amp; Pets</td>\n",
       "      <td>Pet Food &amp; Accessories</td>\n",
       "      <td>Wahl</td>\n",
       "      <td>12500.00</td>\n",
       "      <td>12500.0</td>\n",
       "      <td>Pet Cleaning &amp; Grooming</td>\n",
       "      <td>0.0</td>\n",
       "      <td>The bravura clipper is a must-have clipper for...</td>\n",
       "    </tr>\n",
       "    <tr>\n",
       "      <th>25797</th>\n",
       "      <td>25798</td>\n",
       "      <td>4 Burner Gas Stove - Marvel Plus Glass Tables,...</td>\n",
       "      <td>Kitchen, Garden &amp; Pets</td>\n",
       "      <td>Cookware &amp; Non Stick</td>\n",
       "      <td>Prestige</td>\n",
       "      <td>7270.00</td>\n",
       "      <td>9695.0</td>\n",
       "      <td>Gas Stove</td>\n",
       "      <td>0.0</td>\n",
       "      <td>Prestige Marvel Plus Gas Stove . A Smart and C...</td>\n",
       "    </tr>\n",
       "  </tbody>\n",
       "</table>\n",
       "</div>"
      ],
      "text/plain": [
       "       index                                            product  \\\n",
       "1056    1057  Gas Stove-3 Burner Royale Plus Schott Glass, B...   \n",
       "12669  12670                   Epilator SE9-9961 Legs-Body-Face   \n",
       "21761  21762      Pet Food - N&D Team Breeder Puppy Top Farmina   \n",
       "23082  23083  Gas Stove-4 Burner Royale Plus Schott Glass, B...   \n",
       "25301  25302                                    Bravura Clipper   \n",
       "25797  25798  4 Burner Gas Stove - Marvel Plus Glass Tables,...   \n",
       "\n",
       "                     category            sub_category     brand  sale_price  \\\n",
       "1056   Kitchen, Garden & Pets    Cookware & Non Stick  Prestige     6999.00   \n",
       "12669        Beauty & Hygiene        Feminine Hygiene     Braun     8184.44   \n",
       "21761  Kitchen, Garden & Pets  Pet Food & Accessories   Farmina    10090.00   \n",
       "23082  Kitchen, Garden & Pets    Cookware & Non Stick  Prestige     7999.00   \n",
       "25301  Kitchen, Garden & Pets  Pet Food & Accessories      Wahl    12500.00   \n",
       "25797  Kitchen, Garden & Pets    Cookware & Non Stick  Prestige     7270.00   \n",
       "\n",
       "       market_price                     type  rating  \\\n",
       "1056        10695.0                Gas Stove     0.0   \n",
       "12669       10769.0             Hair Removal     0.0   \n",
       "21761       10090.0       Pet Meals & Treats     0.0   \n",
       "23082       12245.0                Gas Stove     0.0   \n",
       "25301       12500.0  Pet Cleaning & Grooming     0.0   \n",
       "25797        9695.0                Gas Stove     0.0   \n",
       "\n",
       "                                             description  \n",
       "1056   Prestige Royale Plus Gas Stove. Add a Touch of...  \n",
       "12669  This cordless epilator has a sonic exfoliation...  \n",
       "21761        Dog Food Adult Health Nutritional Dog Food.  \n",
       "23082  Prestige Royale Plus Gas Stove. Add a Touch of...  \n",
       "25301  The bravura clipper is a must-have clipper for...  \n",
       "25797  Prestige Marvel Plus Gas Stove . A Smart and C...  "
      ]
     },
     "execution_count": 156,
     "metadata": {},
     "output_type": "execute_result"
    }
   ],
   "source": [
    "df[df.market_price > 9000]"
   ]
  },
  {
   "cell_type": "code",
   "execution_count": 157,
   "id": "5ac4999e-e35b-4f4a-9a6a-1f6196d1b8ce",
   "metadata": {
    "tags": []
   },
   "outputs": [
    {
     "data": {
      "text/html": [
       "<div>\n",
       "<style scoped>\n",
       "    .dataframe tbody tr th:only-of-type {\n",
       "        vertical-align: middle;\n",
       "    }\n",
       "\n",
       "    .dataframe tbody tr th {\n",
       "        vertical-align: top;\n",
       "    }\n",
       "\n",
       "    .dataframe thead th {\n",
       "        text-align: right;\n",
       "    }\n",
       "</style>\n",
       "<table border=\"1\" class=\"dataframe\">\n",
       "  <thead>\n",
       "    <tr style=\"text-align: right;\">\n",
       "      <th></th>\n",
       "      <th>index</th>\n",
       "      <th>sale_price</th>\n",
       "      <th>market_price</th>\n",
       "      <th>rating</th>\n",
       "    </tr>\n",
       "  </thead>\n",
       "  <tbody>\n",
       "    <tr>\n",
       "      <th>count</th>\n",
       "      <td>27555.00000</td>\n",
       "      <td>27555.000000</td>\n",
       "      <td>27555.000000</td>\n",
       "      <td>27555.000000</td>\n",
       "    </tr>\n",
       "    <tr>\n",
       "      <th>mean</th>\n",
       "      <td>13778.00000</td>\n",
       "      <td>322.575240</td>\n",
       "      <td>382.056664</td>\n",
       "      <td>2.707429</td>\n",
       "    </tr>\n",
       "    <tr>\n",
       "      <th>std</th>\n",
       "      <td>7954.58767</td>\n",
       "      <td>486.449966</td>\n",
       "      <td>581.730717</td>\n",
       "      <td>1.929072</td>\n",
       "    </tr>\n",
       "    <tr>\n",
       "      <th>min</th>\n",
       "      <td>1.00000</td>\n",
       "      <td>2.450000</td>\n",
       "      <td>3.000000</td>\n",
       "      <td>0.000000</td>\n",
       "    </tr>\n",
       "    <tr>\n",
       "      <th>25%</th>\n",
       "      <td>6889.50000</td>\n",
       "      <td>95.000000</td>\n",
       "      <td>100.000000</td>\n",
       "      <td>0.000000</td>\n",
       "    </tr>\n",
       "    <tr>\n",
       "      <th>50%</th>\n",
       "      <td>13778.00000</td>\n",
       "      <td>190.000000</td>\n",
       "      <td>220.000000</td>\n",
       "      <td>3.800000</td>\n",
       "    </tr>\n",
       "    <tr>\n",
       "      <th>75%</th>\n",
       "      <td>20666.50000</td>\n",
       "      <td>359.000000</td>\n",
       "      <td>425.000000</td>\n",
       "      <td>4.200000</td>\n",
       "    </tr>\n",
       "    <tr>\n",
       "      <th>max</th>\n",
       "      <td>27555.00000</td>\n",
       "      <td>12500.000000</td>\n",
       "      <td>12500.000000</td>\n",
       "      <td>5.000000</td>\n",
       "    </tr>\n",
       "  </tbody>\n",
       "</table>\n",
       "</div>"
      ],
      "text/plain": [
       "             index    sale_price  market_price        rating\n",
       "count  27555.00000  27555.000000  27555.000000  27555.000000\n",
       "mean   13778.00000    322.575240    382.056664      2.707429\n",
       "std     7954.58767    486.449966    581.730717      1.929072\n",
       "min        1.00000      2.450000      3.000000      0.000000\n",
       "25%     6889.50000     95.000000    100.000000      0.000000\n",
       "50%    13778.00000    190.000000    220.000000      3.800000\n",
       "75%    20666.50000    359.000000    425.000000      4.200000\n",
       "max    27555.00000  12500.000000  12500.000000      5.000000"
      ]
     },
     "execution_count": 157,
     "metadata": {},
     "output_type": "execute_result"
    }
   ],
   "source": [
    "df.describe()"
   ]
  },
  {
   "cell_type": "code",
   "execution_count": 158,
   "id": "6e121b1f-4514-4f1f-9021-f582ee006167",
   "metadata": {
    "tags": []
   },
   "outputs": [
    {
     "data": {
      "text/plain": [
       "type\n",
       "Face Care                1508\n",
       "Ayurveda                  538\n",
       "Men's Deodorants          500\n",
       "Shampoo & Conditioner     461\n",
       "Glassware                 415\n",
       "                         ... \n",
       "Bagels & Baguette           1\n",
       "Roses                       1\n",
       "Marinated Meat              1\n",
       "Organic Eggs                1\n",
       "Turkey & Duck               1\n",
       "Name: count, Length: 426, dtype: int64"
      ]
     },
     "execution_count": 158,
     "metadata": {},
     "output_type": "execute_result"
    }
   ],
   "source": [
    "df.type.value_counts()"
   ]
  },
  {
   "cell_type": "markdown",
   "id": "39324989-d75e-40a3-8a0d-fce3e2b4948f",
   "metadata": {},
   "source": [
    "###### Deleting Extra Columns"
   ]
  },
  {
   "cell_type": "code",
   "execution_count": 164,
   "id": "f5cb7ac7-17e5-4e6a-a070-6d478e7549a1",
   "metadata": {
    "tags": []
   },
   "outputs": [],
   "source": [
    "df=df.drop(\"index\",axis = 1 )"
   ]
  },
  {
   "cell_type": "code",
   "execution_count": 165,
   "id": "c17a629b-91a4-4d94-93ca-d6cb88785a55",
   "metadata": {
    "tags": []
   },
   "outputs": [
    {
     "data": {
      "text/html": [
       "<div>\n",
       "<style scoped>\n",
       "    .dataframe tbody tr th:only-of-type {\n",
       "        vertical-align: middle;\n",
       "    }\n",
       "\n",
       "    .dataframe tbody tr th {\n",
       "        vertical-align: top;\n",
       "    }\n",
       "\n",
       "    .dataframe thead th {\n",
       "        text-align: right;\n",
       "    }\n",
       "</style>\n",
       "<table border=\"1\" class=\"dataframe\">\n",
       "  <thead>\n",
       "    <tr style=\"text-align: right;\">\n",
       "      <th></th>\n",
       "      <th>product</th>\n",
       "      <th>category</th>\n",
       "      <th>sub_category</th>\n",
       "      <th>brand</th>\n",
       "      <th>sale_price</th>\n",
       "      <th>market_price</th>\n",
       "      <th>type</th>\n",
       "      <th>rating</th>\n",
       "      <th>description</th>\n",
       "    </tr>\n",
       "  </thead>\n",
       "  <tbody>\n",
       "    <tr>\n",
       "      <th>0</th>\n",
       "      <td>Garlic Oil - Vegetarian Capsule 500 mg</td>\n",
       "      <td>Beauty &amp; Hygiene</td>\n",
       "      <td>Hair Care</td>\n",
       "      <td>Sri Sri Ayurveda</td>\n",
       "      <td>220.00</td>\n",
       "      <td>220.0</td>\n",
       "      <td>Hair Oil &amp; Serum</td>\n",
       "      <td>4.1</td>\n",
       "      <td>This Product contains Garlic Oil that is known...</td>\n",
       "    </tr>\n",
       "    <tr>\n",
       "      <th>1</th>\n",
       "      <td>Water Bottle - Orange</td>\n",
       "      <td>Kitchen, Garden &amp; Pets</td>\n",
       "      <td>Storage &amp; Accessories</td>\n",
       "      <td>Mastercook</td>\n",
       "      <td>180.00</td>\n",
       "      <td>180.0</td>\n",
       "      <td>Water &amp; Fridge Bottles</td>\n",
       "      <td>2.3</td>\n",
       "      <td>Each product is microwave safe (without lid), ...</td>\n",
       "    </tr>\n",
       "    <tr>\n",
       "      <th>2</th>\n",
       "      <td>Brass Angle Deep - Plain, No.2</td>\n",
       "      <td>Cleaning &amp; Household</td>\n",
       "      <td>Pooja Needs</td>\n",
       "      <td>Trm</td>\n",
       "      <td>119.00</td>\n",
       "      <td>250.0</td>\n",
       "      <td>Lamp &amp; Lamp Oil</td>\n",
       "      <td>3.4</td>\n",
       "      <td>A perfect gift for all occasions, be it your m...</td>\n",
       "    </tr>\n",
       "    <tr>\n",
       "      <th>3</th>\n",
       "      <td>Cereal Flip Lid Container/Storage Jar - Assort...</td>\n",
       "      <td>Cleaning &amp; Household</td>\n",
       "      <td>Bins &amp; Bathroom Ware</td>\n",
       "      <td>Nakoda</td>\n",
       "      <td>149.00</td>\n",
       "      <td>176.0</td>\n",
       "      <td>Laundry, Storage Baskets</td>\n",
       "      <td>3.7</td>\n",
       "      <td>Multipurpose container with an attractive desi...</td>\n",
       "    </tr>\n",
       "    <tr>\n",
       "      <th>4</th>\n",
       "      <td>Creme Soft Soap - For Hands &amp; Body</td>\n",
       "      <td>Beauty &amp; Hygiene</td>\n",
       "      <td>Bath &amp; Hand Wash</td>\n",
       "      <td>Nivea</td>\n",
       "      <td>162.00</td>\n",
       "      <td>162.0</td>\n",
       "      <td>Bathing Bars &amp; Soaps</td>\n",
       "      <td>4.4</td>\n",
       "      <td>Nivea Creme Soft Soap gives your skin the best...</td>\n",
       "    </tr>\n",
       "    <tr>\n",
       "      <th>...</th>\n",
       "      <td>...</td>\n",
       "      <td>...</td>\n",
       "      <td>...</td>\n",
       "      <td>...</td>\n",
       "      <td>...</td>\n",
       "      <td>...</td>\n",
       "      <td>...</td>\n",
       "      <td>...</td>\n",
       "      <td>...</td>\n",
       "    </tr>\n",
       "    <tr>\n",
       "      <th>27550</th>\n",
       "      <td>Wottagirl! Perfume Spray - Heaven, Classic</td>\n",
       "      <td>Beauty &amp; Hygiene</td>\n",
       "      <td>Fragrances &amp; Deos</td>\n",
       "      <td>Layerr</td>\n",
       "      <td>199.20</td>\n",
       "      <td>249.0</td>\n",
       "      <td>Perfume</td>\n",
       "      <td>3.9</td>\n",
       "      <td>Layerr brings you Wottagirl Classic fragrant b...</td>\n",
       "    </tr>\n",
       "    <tr>\n",
       "      <th>27551</th>\n",
       "      <td>Rosemary</td>\n",
       "      <td>Gourmet &amp; World Food</td>\n",
       "      <td>Cooking &amp; Baking Needs</td>\n",
       "      <td>Puramate</td>\n",
       "      <td>67.50</td>\n",
       "      <td>75.0</td>\n",
       "      <td>Herbs, Seasonings &amp; Rubs</td>\n",
       "      <td>4.0</td>\n",
       "      <td>Puramate rosemary is enough to transform a dis...</td>\n",
       "    </tr>\n",
       "    <tr>\n",
       "      <th>27552</th>\n",
       "      <td>Peri-Peri Sweet Potato Chips</td>\n",
       "      <td>Gourmet &amp; World Food</td>\n",
       "      <td>Snacks, Dry Fruits, Nuts</td>\n",
       "      <td>FabBox</td>\n",
       "      <td>200.00</td>\n",
       "      <td>200.0</td>\n",
       "      <td>Nachos &amp; Chips</td>\n",
       "      <td>3.8</td>\n",
       "      <td>We have taken the richness of Sweet Potatoes (...</td>\n",
       "    </tr>\n",
       "    <tr>\n",
       "      <th>27553</th>\n",
       "      <td>Green Tea - Pure Original</td>\n",
       "      <td>Beverages</td>\n",
       "      <td>Tea</td>\n",
       "      <td>Tetley</td>\n",
       "      <td>396.00</td>\n",
       "      <td>495.0</td>\n",
       "      <td>Tea Bags</td>\n",
       "      <td>4.2</td>\n",
       "      <td>Tetley Green Tea with its refreshing pure, ori...</td>\n",
       "    </tr>\n",
       "    <tr>\n",
       "      <th>27554</th>\n",
       "      <td>United Dreams Go Far Deodorant</td>\n",
       "      <td>Beauty &amp; Hygiene</td>\n",
       "      <td>Men's Grooming</td>\n",
       "      <td>United Colors Of Benetton</td>\n",
       "      <td>214.53</td>\n",
       "      <td>390.0</td>\n",
       "      <td>Men's Deodorants</td>\n",
       "      <td>4.5</td>\n",
       "      <td>The new mens fragrance from the United Dreams ...</td>\n",
       "    </tr>\n",
       "  </tbody>\n",
       "</table>\n",
       "<p>27555 rows × 9 columns</p>\n",
       "</div>"
      ],
      "text/plain": [
       "                                                 product  \\\n",
       "0                 Garlic Oil - Vegetarian Capsule 500 mg   \n",
       "1                                  Water Bottle - Orange   \n",
       "2                         Brass Angle Deep - Plain, No.2   \n",
       "3      Cereal Flip Lid Container/Storage Jar - Assort...   \n",
       "4                     Creme Soft Soap - For Hands & Body   \n",
       "...                                                  ...   \n",
       "27550         Wottagirl! Perfume Spray - Heaven, Classic   \n",
       "27551                                           Rosemary   \n",
       "27552                       Peri-Peri Sweet Potato Chips   \n",
       "27553                          Green Tea - Pure Original   \n",
       "27554                     United Dreams Go Far Deodorant   \n",
       "\n",
       "                     category              sub_category  \\\n",
       "0            Beauty & Hygiene                 Hair Care   \n",
       "1      Kitchen, Garden & Pets     Storage & Accessories   \n",
       "2        Cleaning & Household               Pooja Needs   \n",
       "3        Cleaning & Household      Bins & Bathroom Ware   \n",
       "4            Beauty & Hygiene          Bath & Hand Wash   \n",
       "...                       ...                       ...   \n",
       "27550        Beauty & Hygiene         Fragrances & Deos   \n",
       "27551    Gourmet & World Food    Cooking & Baking Needs   \n",
       "27552    Gourmet & World Food  Snacks, Dry Fruits, Nuts   \n",
       "27553               Beverages                       Tea   \n",
       "27554        Beauty & Hygiene            Men's Grooming   \n",
       "\n",
       "                            brand  sale_price  market_price  \\\n",
       "0               Sri Sri Ayurveda       220.00         220.0   \n",
       "1                      Mastercook      180.00         180.0   \n",
       "2                             Trm      119.00         250.0   \n",
       "3                          Nakoda      149.00         176.0   \n",
       "4                           Nivea      162.00         162.0   \n",
       "...                           ...         ...           ...   \n",
       "27550                      Layerr      199.20         249.0   \n",
       "27551                    Puramate       67.50          75.0   \n",
       "27552                      FabBox      200.00         200.0   \n",
       "27553                      Tetley      396.00         495.0   \n",
       "27554  United Colors Of Benetton       214.53         390.0   \n",
       "\n",
       "                           type  rating  \\\n",
       "0              Hair Oil & Serum     4.1   \n",
       "1        Water & Fridge Bottles     2.3   \n",
       "2               Lamp & Lamp Oil     3.4   \n",
       "3      Laundry, Storage Baskets     3.7   \n",
       "4          Bathing Bars & Soaps     4.4   \n",
       "...                         ...     ...   \n",
       "27550                   Perfume     3.9   \n",
       "27551  Herbs, Seasonings & Rubs     4.0   \n",
       "27552            Nachos & Chips     3.8   \n",
       "27553                  Tea Bags     4.2   \n",
       "27554          Men's Deodorants     4.5   \n",
       "\n",
       "                                             description  \n",
       "0      This Product contains Garlic Oil that is known...  \n",
       "1      Each product is microwave safe (without lid), ...  \n",
       "2      A perfect gift for all occasions, be it your m...  \n",
       "3      Multipurpose container with an attractive desi...  \n",
       "4      Nivea Creme Soft Soap gives your skin the best...  \n",
       "...                                                  ...  \n",
       "27550  Layerr brings you Wottagirl Classic fragrant b...  \n",
       "27551  Puramate rosemary is enough to transform a dis...  \n",
       "27552  We have taken the richness of Sweet Potatoes (...  \n",
       "27553  Tetley Green Tea with its refreshing pure, ori...  \n",
       "27554  The new mens fragrance from the United Dreams ...  \n",
       "\n",
       "[27555 rows x 9 columns]"
      ]
     },
     "execution_count": 165,
     "metadata": {},
     "output_type": "execute_result"
    }
   ],
   "source": [
    "df"
   ]
  },
  {
   "cell_type": "markdown",
   "id": "3b175702-8f47-440c-a961-6f2f48c0419b",
   "metadata": {},
   "source": [
    "###### Saving Copy of Dataset"
   ]
  },
  {
   "cell_type": "code",
   "execution_count": 167,
   "id": "f2558511-4655-4c25-b3c0-a565577ca422",
   "metadata": {
    "tags": []
   },
   "outputs": [],
   "source": [
    "df.to_csv(\"BigBasket_Clean.csv\", index=False)"
   ]
  },
  {
   "cell_type": "code",
   "execution_count": null,
   "id": "12370324-169c-4ab7-ba85-46ff591bb5aa",
   "metadata": {},
   "outputs": [],
   "source": []
  }
 ],
 "metadata": {
  "kernelspec": {
   "display_name": "Python 3 (ipykernel)",
   "language": "python",
   "name": "python3"
  },
  "language_info": {
   "codemirror_mode": {
    "name": "ipython",
    "version": 3
   },
   "file_extension": ".py",
   "mimetype": "text/x-python",
   "name": "python",
   "nbconvert_exporter": "python",
   "pygments_lexer": "ipython3",
   "version": "3.11.5"
  }
 },
 "nbformat": 4,
 "nbformat_minor": 5
}
